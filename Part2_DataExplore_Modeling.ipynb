{
 "cells": [
  {
   "cell_type": "code",
   "execution_count": 1,
   "metadata": {},
   "outputs": [
    {
     "name": "stdout",
     "output_type": "stream",
     "text": [
      "Matplotlib version:  3.1.1\n"
     ]
    }
   ],
   "source": [
    "import numpy as np\n",
    "import pandas as pd\n",
    "import math\n",
    "# use the inline backend to generate the plots within the browser\n",
    "%matplotlib inline \n",
    "\n",
    "import matplotlib as mpl\n",
    "import matplotlib.pyplot as plt\n",
    "\n",
    "mpl.style.use('ggplot') # optional: for ggplot-like style\n",
    "\n",
    "# check for latest version of Matplotlib\n",
    "print ('Matplotlib version: ', mpl.__version__) # >= 2.0.0"
   ]
  },
  {
   "cell_type": "markdown",
   "metadata": {},
   "source": [
    "### Import merged data so we can do something with it"
   ]
  },
  {
   "cell_type": "code",
   "execution_count": 2,
   "metadata": {},
   "outputs": [
    {
     "data": {
      "text/html": [
       "<div>\n",
       "<style scoped>\n",
       "    .dataframe tbody tr th:only-of-type {\n",
       "        vertical-align: middle;\n",
       "    }\n",
       "\n",
       "    .dataframe tbody tr th {\n",
       "        vertical-align: top;\n",
       "    }\n",
       "\n",
       "    .dataframe thead th {\n",
       "        text-align: right;\n",
       "    }\n",
       "</style>\n",
       "<table border=\"1\" class=\"dataframe\">\n",
       "  <thead>\n",
       "    <tr style=\"text-align: right;\">\n",
       "      <th></th>\n",
       "      <th>Unnamed: 0</th>\n",
       "      <th>zipcode</th>\n",
       "      <th>child capacity</th>\n",
       "      <th>ageless5</th>\n",
       "      <th>pop</th>\n",
       "      <th>Latitude</th>\n",
       "      <th>Longitude</th>\n",
       "      <th>radius_meters</th>\n",
       "      <th>Desert</th>\n",
       "      <th>Few_Child</th>\n",
       "      <th>...</th>\n",
       "      <th>Water Park</th>\n",
       "      <th>Weight Loss Center</th>\n",
       "      <th>Whisky Bar</th>\n",
       "      <th>Wine Bar</th>\n",
       "      <th>Wine Shop</th>\n",
       "      <th>Winery</th>\n",
       "      <th>Wings Joint</th>\n",
       "      <th>Women's Store</th>\n",
       "      <th>Yoga Studio</th>\n",
       "      <th>Zoo</th>\n",
       "    </tr>\n",
       "  </thead>\n",
       "  <tbody>\n",
       "    <tr>\n",
       "      <td>0</td>\n",
       "      <td>1</td>\n",
       "      <td>80478</td>\n",
       "      <td>39.0</td>\n",
       "      <td>27</td>\n",
       "      <td>1625</td>\n",
       "      <td>40.001670</td>\n",
       "      <td>-105.86860</td>\n",
       "      <td>5200</td>\n",
       "      <td>0</td>\n",
       "      <td>2</td>\n",
       "      <td>...</td>\n",
       "      <td>0.0</td>\n",
       "      <td>0.0</td>\n",
       "      <td>0.0</td>\n",
       "      <td>0.0</td>\n",
       "      <td>0.0</td>\n",
       "      <td>0.0</td>\n",
       "      <td>0.0</td>\n",
       "      <td>0.0</td>\n",
       "      <td>0.0</td>\n",
       "      <td>0.0</td>\n",
       "    </tr>\n",
       "    <tr>\n",
       "      <td>1</td>\n",
       "      <td>2</td>\n",
       "      <td>80480</td>\n",
       "      <td>15.0</td>\n",
       "      <td>89</td>\n",
       "      <td>1342</td>\n",
       "      <td>40.621621</td>\n",
       "      <td>-106.24457</td>\n",
       "      <td>31400</td>\n",
       "      <td>1</td>\n",
       "      <td>0</td>\n",
       "      <td>...</td>\n",
       "      <td>0.0</td>\n",
       "      <td>0.0</td>\n",
       "      <td>0.0</td>\n",
       "      <td>0.0</td>\n",
       "      <td>0.0</td>\n",
       "      <td>0.0</td>\n",
       "      <td>0.0</td>\n",
       "      <td>0.0</td>\n",
       "      <td>0.0</td>\n",
       "      <td>0.0</td>\n",
       "    </tr>\n",
       "    <tr>\n",
       "      <td>2</td>\n",
       "      <td>3</td>\n",
       "      <td>80481</td>\n",
       "      <td>486.0</td>\n",
       "      <td>6</td>\n",
       "      <td>601</td>\n",
       "      <td>40.106130</td>\n",
       "      <td>-105.48044</td>\n",
       "      <td>6800</td>\n",
       "      <td>0</td>\n",
       "      <td>2</td>\n",
       "      <td>...</td>\n",
       "      <td>0.0</td>\n",
       "      <td>0.0</td>\n",
       "      <td>0.0</td>\n",
       "      <td>0.0</td>\n",
       "      <td>0.0</td>\n",
       "      <td>0.0</td>\n",
       "      <td>0.0</td>\n",
       "      <td>0.0</td>\n",
       "      <td>0.0</td>\n",
       "      <td>0.0</td>\n",
       "    </tr>\n",
       "    <tr>\n",
       "      <td>3</td>\n",
       "      <td>4</td>\n",
       "      <td>80483</td>\n",
       "      <td>36.0</td>\n",
       "      <td>56</td>\n",
       "      <td>660</td>\n",
       "      <td>40.149432</td>\n",
       "      <td>-106.90681</td>\n",
       "      <td>7500</td>\n",
       "      <td>0</td>\n",
       "      <td>0</td>\n",
       "      <td>...</td>\n",
       "      <td>0.0</td>\n",
       "      <td>0.0</td>\n",
       "      <td>0.0</td>\n",
       "      <td>0.0</td>\n",
       "      <td>0.0</td>\n",
       "      <td>0.0</td>\n",
       "      <td>0.0</td>\n",
       "      <td>0.0</td>\n",
       "      <td>0.0</td>\n",
       "      <td>0.0</td>\n",
       "    </tr>\n",
       "    <tr>\n",
       "      <td>4</td>\n",
       "      <td>5</td>\n",
       "      <td>80487</td>\n",
       "      <td>594.0</td>\n",
       "      <td>702</td>\n",
       "      <td>17708</td>\n",
       "      <td>40.502772</td>\n",
       "      <td>-106.87521</td>\n",
       "      <td>21700</td>\n",
       "      <td>0</td>\n",
       "      <td>0</td>\n",
       "      <td>...</td>\n",
       "      <td>0.0</td>\n",
       "      <td>0.0</td>\n",
       "      <td>0.0</td>\n",
       "      <td>0.0</td>\n",
       "      <td>0.0</td>\n",
       "      <td>0.0</td>\n",
       "      <td>0.0</td>\n",
       "      <td>0.0</td>\n",
       "      <td>0.0</td>\n",
       "      <td>0.0</td>\n",
       "    </tr>\n",
       "  </tbody>\n",
       "</table>\n",
       "<p>5 rows × 432 columns</p>\n",
       "</div>"
      ],
      "text/plain": [
       "   Unnamed: 0  zipcode  child capacity  ageless5    pop   Latitude  Longitude  \\\n",
       "0           1    80478            39.0        27   1625  40.001670 -105.86860   \n",
       "1           2    80480            15.0        89   1342  40.621621 -106.24457   \n",
       "2           3    80481           486.0         6    601  40.106130 -105.48044   \n",
       "3           4    80483            36.0        56    660  40.149432 -106.90681   \n",
       "4           5    80487           594.0       702  17708  40.502772 -106.87521   \n",
       "\n",
       "   radius_meters  Desert  Few_Child  ...  Water Park  Weight Loss Center  \\\n",
       "0           5200       0          2  ...         0.0                 0.0   \n",
       "1          31400       1          0  ...         0.0                 0.0   \n",
       "2           6800       0          2  ...         0.0                 0.0   \n",
       "3           7500       0          0  ...         0.0                 0.0   \n",
       "4          21700       0          0  ...         0.0                 0.0   \n",
       "\n",
       "   Whisky Bar Wine Bar Wine Shop Winery Wings Joint Women's Store Yoga Studio  \\\n",
       "0         0.0      0.0       0.0    0.0         0.0           0.0         0.0   \n",
       "1         0.0      0.0       0.0    0.0         0.0           0.0         0.0   \n",
       "2         0.0      0.0       0.0    0.0         0.0           0.0         0.0   \n",
       "3         0.0      0.0       0.0    0.0         0.0           0.0         0.0   \n",
       "4         0.0      0.0       0.0    0.0         0.0           0.0         0.0   \n",
       "\n",
       "   Zoo  \n",
       "0  0.0  \n",
       "1  0.0  \n",
       "2  0.0  \n",
       "3  0.0  \n",
       "4  0.0  \n",
       "\n",
       "[5 rows x 432 columns]"
      ]
     },
     "execution_count": 2,
     "metadata": {},
     "output_type": "execute_result"
    }
   ],
   "source": [
    "colo_merged = pd.read_csv('colo_merged.csv')\n",
    "colo_merged.head()"
   ]
  },
  {
   "cell_type": "markdown",
   "metadata": {},
   "source": [
    "### Let's also bring in the raw Colorado Venues to use them easily if we need to look futher into them"
   ]
  },
  {
   "cell_type": "code",
   "execution_count": 3,
   "metadata": {},
   "outputs": [
    {
     "data": {
      "text/html": [
       "<div>\n",
       "<style scoped>\n",
       "    .dataframe tbody tr th:only-of-type {\n",
       "        vertical-align: middle;\n",
       "    }\n",
       "\n",
       "    .dataframe tbody tr th {\n",
       "        vertical-align: top;\n",
       "    }\n",
       "\n",
       "    .dataframe thead th {\n",
       "        text-align: right;\n",
       "    }\n",
       "</style>\n",
       "<table border=\"1\" class=\"dataframe\">\n",
       "  <thead>\n",
       "    <tr style=\"text-align: right;\">\n",
       "      <th></th>\n",
       "      <th>Unnamed: 0</th>\n",
       "      <th>zipcode</th>\n",
       "      <th>Zipcode Latitude</th>\n",
       "      <th>Zipcode Longitude</th>\n",
       "      <th>Venue</th>\n",
       "      <th>Venue Latitude</th>\n",
       "      <th>Venue Longitude</th>\n",
       "      <th>Venue Category</th>\n",
       "    </tr>\n",
       "  </thead>\n",
       "  <tbody>\n",
       "    <tr>\n",
       "      <td>0</td>\n",
       "      <td>0</td>\n",
       "      <td>80478</td>\n",
       "      <td>40.00167</td>\n",
       "      <td>-105.8686</td>\n",
       "      <td>Tabernash Tavern</td>\n",
       "      <td>39.992848</td>\n",
       "      <td>-105.843889</td>\n",
       "      <td>American Restaurant</td>\n",
       "    </tr>\n",
       "    <tr>\n",
       "      <td>1</td>\n",
       "      <td>1</td>\n",
       "      <td>80478</td>\n",
       "      <td>40.00167</td>\n",
       "      <td>-105.8686</td>\n",
       "      <td>Hot Tub Time Machine</td>\n",
       "      <td>39.995027</td>\n",
       "      <td>-105.868007</td>\n",
       "      <td>Mountain</td>\n",
       "    </tr>\n",
       "    <tr>\n",
       "      <td>2</td>\n",
       "      <td>2</td>\n",
       "      <td>80478</td>\n",
       "      <td>40.00167</td>\n",
       "      <td>-105.8686</td>\n",
       "      <td>Dashing Thru the Snow</td>\n",
       "      <td>39.988871</td>\n",
       "      <td>-105.880457</td>\n",
       "      <td>Stables</td>\n",
       "    </tr>\n",
       "    <tr>\n",
       "      <td>3</td>\n",
       "      <td>3</td>\n",
       "      <td>80478</td>\n",
       "      <td>40.00167</td>\n",
       "      <td>-105.8686</td>\n",
       "      <td>Strawberry Trails (BLM)</td>\n",
       "      <td>40.003644</td>\n",
       "      <td>-105.844600</td>\n",
       "      <td>Trail</td>\n",
       "    </tr>\n",
       "    <tr>\n",
       "      <td>4</td>\n",
       "      <td>4</td>\n",
       "      <td>80478</td>\n",
       "      <td>40.00167</td>\n",
       "      <td>-105.8686</td>\n",
       "      <td>Snooty Coyote</td>\n",
       "      <td>39.993036</td>\n",
       "      <td>-105.845535</td>\n",
       "      <td>Liquor Store</td>\n",
       "    </tr>\n",
       "  </tbody>\n",
       "</table>\n",
       "</div>"
      ],
      "text/plain": [
       "   Unnamed: 0  zipcode  Zipcode Latitude  Zipcode Longitude  \\\n",
       "0           0    80478          40.00167          -105.8686   \n",
       "1           1    80478          40.00167          -105.8686   \n",
       "2           2    80478          40.00167          -105.8686   \n",
       "3           3    80478          40.00167          -105.8686   \n",
       "4           4    80478          40.00167          -105.8686   \n",
       "\n",
       "                     Venue  Venue Latitude  Venue Longitude  \\\n",
       "0         Tabernash Tavern       39.992848      -105.843889   \n",
       "1     Hot Tub Time Machine       39.995027      -105.868007   \n",
       "2    Dashing Thru the Snow       39.988871      -105.880457   \n",
       "3  Strawberry Trails (BLM)       40.003644      -105.844600   \n",
       "4            Snooty Coyote       39.993036      -105.845535   \n",
       "\n",
       "        Venue Category  \n",
       "0  American Restaurant  \n",
       "1             Mountain  \n",
       "2              Stables  \n",
       "3                Trail  \n",
       "4         Liquor Store  "
      ]
     },
     "execution_count": 3,
     "metadata": {},
     "output_type": "execute_result"
    }
   ],
   "source": [
    "colo_venues = pd.read_csv('denver_venues.csv')\n",
    "colo_venues.head()"
   ]
  },
  {
   "cell_type": "markdown",
   "metadata": {},
   "source": [
    "### Group by zipcode and drop that 'random Unnamed: 0' column"
   ]
  },
  {
   "cell_type": "code",
   "execution_count": 4,
   "metadata": {},
   "outputs": [],
   "source": [
    "count_venues = colo_venues.groupby('zipcode').count()\n",
    "count_venues = count_venues.drop(count_venues.columns[1:], axis=1 )"
   ]
  },
  {
   "cell_type": "code",
   "execution_count": 5,
   "metadata": {},
   "outputs": [
    {
     "data": {
      "text/html": [
       "<div>\n",
       "<style scoped>\n",
       "    .dataframe tbody tr th:only-of-type {\n",
       "        vertical-align: middle;\n",
       "    }\n",
       "\n",
       "    .dataframe tbody tr th {\n",
       "        vertical-align: top;\n",
       "    }\n",
       "\n",
       "    .dataframe thead th {\n",
       "        text-align: right;\n",
       "    }\n",
       "</style>\n",
       "<table border=\"1\" class=\"dataframe\">\n",
       "  <thead>\n",
       "    <tr style=\"text-align: right;\">\n",
       "      <th></th>\n",
       "      <th>zipcode</th>\n",
       "      <th>venue_count</th>\n",
       "    </tr>\n",
       "  </thead>\n",
       "  <tbody>\n",
       "    <tr>\n",
       "      <td>0</td>\n",
       "      <td>80002</td>\n",
       "      <td>24</td>\n",
       "    </tr>\n",
       "    <tr>\n",
       "      <td>1</td>\n",
       "      <td>80003</td>\n",
       "      <td>23</td>\n",
       "    </tr>\n",
       "    <tr>\n",
       "      <td>2</td>\n",
       "      <td>80004</td>\n",
       "      <td>16</td>\n",
       "    </tr>\n",
       "    <tr>\n",
       "      <td>3</td>\n",
       "      <td>80005</td>\n",
       "      <td>10</td>\n",
       "    </tr>\n",
       "    <tr>\n",
       "      <td>4</td>\n",
       "      <td>80007</td>\n",
       "      <td>8</td>\n",
       "    </tr>\n",
       "  </tbody>\n",
       "</table>\n",
       "</div>"
      ],
      "text/plain": [
       "   zipcode  venue_count\n",
       "0    80002           24\n",
       "1    80003           23\n",
       "2    80004           16\n",
       "3    80005           10\n",
       "4    80007            8"
      ]
     },
     "execution_count": 5,
     "metadata": {},
     "output_type": "execute_result"
    }
   ],
   "source": [
    "count_venues.columns = ['venue_count']\n",
    "count_venues = count_venues.reset_index()\n",
    "count_venues.head()"
   ]
  },
  {
   "cell_type": "markdown",
   "metadata": {},
   "source": [
    "### Now we know how many venues are in each zipcode. Let's add this info into 'colo_merged'"
   ]
  },
  {
   "cell_type": "code",
   "execution_count": 6,
   "metadata": {},
   "outputs": [
    {
     "data": {
      "text/html": [
       "<div>\n",
       "<style scoped>\n",
       "    .dataframe tbody tr th:only-of-type {\n",
       "        vertical-align: middle;\n",
       "    }\n",
       "\n",
       "    .dataframe tbody tr th {\n",
       "        vertical-align: top;\n",
       "    }\n",
       "\n",
       "    .dataframe thead th {\n",
       "        text-align: right;\n",
       "    }\n",
       "</style>\n",
       "<table border=\"1\" class=\"dataframe\">\n",
       "  <thead>\n",
       "    <tr style=\"text-align: right;\">\n",
       "      <th></th>\n",
       "      <th>zipcode</th>\n",
       "      <th>venue_count</th>\n",
       "      <th>Unnamed: 0</th>\n",
       "      <th>child capacity</th>\n",
       "      <th>ageless5</th>\n",
       "      <th>pop</th>\n",
       "      <th>Latitude</th>\n",
       "      <th>Longitude</th>\n",
       "      <th>radius_meters</th>\n",
       "      <th>Desert</th>\n",
       "      <th>...</th>\n",
       "      <th>Water Park</th>\n",
       "      <th>Weight Loss Center</th>\n",
       "      <th>Whisky Bar</th>\n",
       "      <th>Wine Bar</th>\n",
       "      <th>Wine Shop</th>\n",
       "      <th>Winery</th>\n",
       "      <th>Wings Joint</th>\n",
       "      <th>Women's Store</th>\n",
       "      <th>Yoga Studio</th>\n",
       "      <th>Zoo</th>\n",
       "    </tr>\n",
       "  </thead>\n",
       "  <tbody>\n",
       "    <tr>\n",
       "      <td>0</td>\n",
       "      <td>80002</td>\n",
       "      <td>24</td>\n",
       "      <td>341</td>\n",
       "      <td>1245.0</td>\n",
       "      <td>1096</td>\n",
       "      <td>18211</td>\n",
       "      <td>39.795006</td>\n",
       "      <td>-105.09810</td>\n",
       "      <td>2000</td>\n",
       "      <td>0</td>\n",
       "      <td>...</td>\n",
       "      <td>0.0</td>\n",
       "      <td>0.0</td>\n",
       "      <td>0.0</td>\n",
       "      <td>0.0</td>\n",
       "      <td>0.0</td>\n",
       "      <td>0.0</td>\n",
       "      <td>0.0</td>\n",
       "      <td>0.0</td>\n",
       "      <td>0.0</td>\n",
       "      <td>0.0</td>\n",
       "    </tr>\n",
       "    <tr>\n",
       "      <td>1</td>\n",
       "      <td>80003</td>\n",
       "      <td>23</td>\n",
       "      <td>342</td>\n",
       "      <td>549.0</td>\n",
       "      <td>2587</td>\n",
       "      <td>36657</td>\n",
       "      <td>39.825357</td>\n",
       "      <td>-105.06439</td>\n",
       "      <td>2100</td>\n",
       "      <td>1</td>\n",
       "      <td>...</td>\n",
       "      <td>0.0</td>\n",
       "      <td>0.0</td>\n",
       "      <td>0.0</td>\n",
       "      <td>0.0</td>\n",
       "      <td>0.0</td>\n",
       "      <td>0.0</td>\n",
       "      <td>0.0</td>\n",
       "      <td>0.0</td>\n",
       "      <td>0.0</td>\n",
       "      <td>0.0</td>\n",
       "    </tr>\n",
       "    <tr>\n",
       "      <td>2</td>\n",
       "      <td>80004</td>\n",
       "      <td>16</td>\n",
       "      <td>343</td>\n",
       "      <td>1254.0</td>\n",
       "      <td>2106</td>\n",
       "      <td>37241</td>\n",
       "      <td>39.814310</td>\n",
       "      <td>-105.12263</td>\n",
       "      <td>2200</td>\n",
       "      <td>0</td>\n",
       "      <td>...</td>\n",
       "      <td>0.0</td>\n",
       "      <td>0.0</td>\n",
       "      <td>0.0</td>\n",
       "      <td>0.0</td>\n",
       "      <td>0.0</td>\n",
       "      <td>0.0</td>\n",
       "      <td>0.0</td>\n",
       "      <td>0.0</td>\n",
       "      <td>0.0</td>\n",
       "      <td>0.0</td>\n",
       "    </tr>\n",
       "    <tr>\n",
       "      <td>3</td>\n",
       "      <td>80005</td>\n",
       "      <td>10</td>\n",
       "      <td>344</td>\n",
       "      <td>462.0</td>\n",
       "      <td>1616</td>\n",
       "      <td>29037</td>\n",
       "      <td>39.843304</td>\n",
       "      <td>-105.11896</td>\n",
       "      <td>2700</td>\n",
       "      <td>1</td>\n",
       "      <td>...</td>\n",
       "      <td>0.0</td>\n",
       "      <td>0.0</td>\n",
       "      <td>0.0</td>\n",
       "      <td>0.0</td>\n",
       "      <td>0.0</td>\n",
       "      <td>0.0</td>\n",
       "      <td>0.0</td>\n",
       "      <td>0.0</td>\n",
       "      <td>0.0</td>\n",
       "      <td>0.0</td>\n",
       "    </tr>\n",
       "    <tr>\n",
       "      <td>4</td>\n",
       "      <td>80007</td>\n",
       "      <td>8</td>\n",
       "      <td>345</td>\n",
       "      <td>389.0</td>\n",
       "      <td>799</td>\n",
       "      <td>10174</td>\n",
       "      <td>39.833442</td>\n",
       "      <td>-105.18591</td>\n",
       "      <td>4100</td>\n",
       "      <td>0</td>\n",
       "      <td>...</td>\n",
       "      <td>0.0</td>\n",
       "      <td>0.0</td>\n",
       "      <td>0.0</td>\n",
       "      <td>0.0</td>\n",
       "      <td>0.0</td>\n",
       "      <td>0.0</td>\n",
       "      <td>0.0</td>\n",
       "      <td>0.0</td>\n",
       "      <td>0.0</td>\n",
       "      <td>0.0</td>\n",
       "    </tr>\n",
       "  </tbody>\n",
       "</table>\n",
       "<p>5 rows × 433 columns</p>\n",
       "</div>"
      ],
      "text/plain": [
       "   zipcode  venue_count  Unnamed: 0  child capacity  ageless5    pop  \\\n",
       "0    80002           24         341          1245.0      1096  18211   \n",
       "1    80003           23         342           549.0      2587  36657   \n",
       "2    80004           16         343          1254.0      2106  37241   \n",
       "3    80005           10         344           462.0      1616  29037   \n",
       "4    80007            8         345           389.0       799  10174   \n",
       "\n",
       "    Latitude  Longitude  radius_meters  Desert  ...  Water Park  \\\n",
       "0  39.795006 -105.09810           2000       0  ...         0.0   \n",
       "1  39.825357 -105.06439           2100       1  ...         0.0   \n",
       "2  39.814310 -105.12263           2200       0  ...         0.0   \n",
       "3  39.843304 -105.11896           2700       1  ...         0.0   \n",
       "4  39.833442 -105.18591           4100       0  ...         0.0   \n",
       "\n",
       "   Weight Loss Center  Whisky Bar  Wine Bar Wine Shop Winery Wings Joint  \\\n",
       "0                 0.0         0.0       0.0       0.0    0.0         0.0   \n",
       "1                 0.0         0.0       0.0       0.0    0.0         0.0   \n",
       "2                 0.0         0.0       0.0       0.0    0.0         0.0   \n",
       "3                 0.0         0.0       0.0       0.0    0.0         0.0   \n",
       "4                 0.0         0.0       0.0       0.0    0.0         0.0   \n",
       "\n",
       "  Women's Store Yoga Studio  Zoo  \n",
       "0           0.0         0.0  0.0  \n",
       "1           0.0         0.0  0.0  \n",
       "2           0.0         0.0  0.0  \n",
       "3           0.0         0.0  0.0  \n",
       "4           0.0         0.0  0.0  \n",
       "\n",
       "[5 rows x 433 columns]"
      ]
     },
     "execution_count": 6,
     "metadata": {},
     "output_type": "execute_result"
    }
   ],
   "source": [
    "colo_merged = count_venues.merge(colo_merged, on = 'zipcode')\n",
    "colo_merged.head()"
   ]
  },
  {
   "cell_type": "markdown",
   "metadata": {},
   "source": [
    "### I want to compare the ratio of venues to certain variables (population, area, ageless than 5) across the CCD classifications"
   ]
  },
  {
   "cell_type": "code",
   "execution_count": 7,
   "metadata": {},
   "outputs": [
    {
     "data": {
      "text/html": [
       "<div>\n",
       "<style scoped>\n",
       "    .dataframe tbody tr th:only-of-type {\n",
       "        vertical-align: middle;\n",
       "    }\n",
       "\n",
       "    .dataframe tbody tr th {\n",
       "        vertical-align: top;\n",
       "    }\n",
       "\n",
       "    .dataframe thead th {\n",
       "        text-align: right;\n",
       "    }\n",
       "</style>\n",
       "<table border=\"1\" class=\"dataframe\">\n",
       "  <thead>\n",
       "    <tr style=\"text-align: right;\">\n",
       "      <th></th>\n",
       "      <th>zipcode</th>\n",
       "      <th>venue_count</th>\n",
       "      <th>pop</th>\n",
       "      <th>ageless5</th>\n",
       "      <th>radius_meters</th>\n",
       "      <th>Classification</th>\n",
       "    </tr>\n",
       "  </thead>\n",
       "  <tbody>\n",
       "    <tr>\n",
       "      <td>0</td>\n",
       "      <td>80002</td>\n",
       "      <td>24</td>\n",
       "      <td>18211</td>\n",
       "      <td>1096</td>\n",
       "      <td>2000</td>\n",
       "      <td>3</td>\n",
       "    </tr>\n",
       "    <tr>\n",
       "      <td>1</td>\n",
       "      <td>80003</td>\n",
       "      <td>23</td>\n",
       "      <td>36657</td>\n",
       "      <td>2587</td>\n",
       "      <td>2100</td>\n",
       "      <td>1</td>\n",
       "    </tr>\n",
       "    <tr>\n",
       "      <td>2</td>\n",
       "      <td>80004</td>\n",
       "      <td>16</td>\n",
       "      <td>37241</td>\n",
       "      <td>2106</td>\n",
       "      <td>2200</td>\n",
       "      <td>3</td>\n",
       "    </tr>\n",
       "    <tr>\n",
       "      <td>3</td>\n",
       "      <td>80005</td>\n",
       "      <td>10</td>\n",
       "      <td>29037</td>\n",
       "      <td>1616</td>\n",
       "      <td>2700</td>\n",
       "      <td>1</td>\n",
       "    </tr>\n",
       "    <tr>\n",
       "      <td>4</td>\n",
       "      <td>80007</td>\n",
       "      <td>8</td>\n",
       "      <td>10174</td>\n",
       "      <td>799</td>\n",
       "      <td>4100</td>\n",
       "      <td>3</td>\n",
       "    </tr>\n",
       "    <tr>\n",
       "      <td>...</td>\n",
       "      <td>...</td>\n",
       "      <td>...</td>\n",
       "      <td>...</td>\n",
       "      <td>...</td>\n",
       "      <td>...</td>\n",
       "      <td>...</td>\n",
       "    </tr>\n",
       "    <tr>\n",
       "      <td>342</td>\n",
       "      <td>81648</td>\n",
       "      <td>7</td>\n",
       "      <td>2625</td>\n",
       "      <td>194</td>\n",
       "      <td>28200</td>\n",
       "      <td>1</td>\n",
       "    </tr>\n",
       "    <tr>\n",
       "      <td>343</td>\n",
       "      <td>81650</td>\n",
       "      <td>8</td>\n",
       "      <td>13147</td>\n",
       "      <td>772</td>\n",
       "      <td>24500</td>\n",
       "      <td>3</td>\n",
       "    </tr>\n",
       "    <tr>\n",
       "      <td>344</td>\n",
       "      <td>81652</td>\n",
       "      <td>4</td>\n",
       "      <td>4947</td>\n",
       "      <td>425</td>\n",
       "      <td>7600</td>\n",
       "      <td>1</td>\n",
       "    </tr>\n",
       "    <tr>\n",
       "      <td>345</td>\n",
       "      <td>81654</td>\n",
       "      <td>5</td>\n",
       "      <td>1520</td>\n",
       "      <td>131</td>\n",
       "      <td>7500</td>\n",
       "      <td>3</td>\n",
       "    </tr>\n",
       "    <tr>\n",
       "      <td>346</td>\n",
       "      <td>81657</td>\n",
       "      <td>100</td>\n",
       "      <td>5793</td>\n",
       "      <td>111</td>\n",
       "      <td>8400</td>\n",
       "      <td>3</td>\n",
       "    </tr>\n",
       "  </tbody>\n",
       "</table>\n",
       "<p>347 rows × 6 columns</p>\n",
       "</div>"
      ],
      "text/plain": [
       "     zipcode  venue_count    pop  ageless5  radius_meters  Classification\n",
       "0      80002           24  18211      1096           2000               3\n",
       "1      80003           23  36657      2587           2100               1\n",
       "2      80004           16  37241      2106           2200               3\n",
       "3      80005           10  29037      1616           2700               1\n",
       "4      80007            8  10174       799           4100               3\n",
       "..       ...          ...    ...       ...            ...             ...\n",
       "342    81648            7   2625       194          28200               1\n",
       "343    81650            8  13147       772          24500               3\n",
       "344    81652            4   4947       425           7600               1\n",
       "345    81654            5   1520       131           7500               3\n",
       "346    81657          100   5793       111           8400               3\n",
       "\n",
       "[347 rows x 6 columns]"
      ]
     },
     "execution_count": 7,
     "metadata": {},
     "output_type": "execute_result"
    }
   ],
   "source": [
    "count_venuesPerVar = colo_merged[['zipcode','venue_count','pop','ageless5','radius_meters','Classification']]\n",
    "count_venuesPerVar"
   ]
  },
  {
   "cell_type": "markdown",
   "metadata": {},
   "source": [
    "### I'll get those ratios by dividing the appropriate variables"
   ]
  },
  {
   "cell_type": "code",
   "execution_count": 8,
   "metadata": {},
   "outputs": [
    {
     "data": {
      "text/html": [
       "<div>\n",
       "<style scoped>\n",
       "    .dataframe tbody tr th:only-of-type {\n",
       "        vertical-align: middle;\n",
       "    }\n",
       "\n",
       "    .dataframe tbody tr th {\n",
       "        vertical-align: top;\n",
       "    }\n",
       "\n",
       "    .dataframe thead th {\n",
       "        text-align: right;\n",
       "    }\n",
       "</style>\n",
       "<table border=\"1\" class=\"dataframe\">\n",
       "  <thead>\n",
       "    <tr style=\"text-align: right;\">\n",
       "      <th></th>\n",
       "      <th>ven_per_pop</th>\n",
       "      <th>ven_per_meter</th>\n",
       "      <th>pop_per_meter</th>\n",
       "      <th>Classification</th>\n",
       "      <th>ageless5_per_pop</th>\n",
       "      <th>ven_per_ageless5</th>\n",
       "    </tr>\n",
       "    <tr>\n",
       "      <th>zipcode</th>\n",
       "      <th></th>\n",
       "      <th></th>\n",
       "      <th></th>\n",
       "      <th></th>\n",
       "      <th></th>\n",
       "      <th></th>\n",
       "    </tr>\n",
       "  </thead>\n",
       "  <tbody>\n",
       "    <tr>\n",
       "      <td>80002</td>\n",
       "      <td>0.001318</td>\n",
       "      <td>1.909859e-06</td>\n",
       "      <td>0.001449</td>\n",
       "      <td>3</td>\n",
       "      <td>0.060183</td>\n",
       "      <td>0.021898</td>\n",
       "    </tr>\n",
       "    <tr>\n",
       "      <td>80003</td>\n",
       "      <td>0.000627</td>\n",
       "      <td>1.660120e-06</td>\n",
       "      <td>0.002646</td>\n",
       "      <td>1</td>\n",
       "      <td>0.070573</td>\n",
       "      <td>0.008891</td>\n",
       "    </tr>\n",
       "    <tr>\n",
       "      <td>80004</td>\n",
       "      <td>0.000430</td>\n",
       "      <td>1.052264e-06</td>\n",
       "      <td>0.002449</td>\n",
       "      <td>3</td>\n",
       "      <td>0.056551</td>\n",
       "      <td>0.007597</td>\n",
       "    </tr>\n",
       "    <tr>\n",
       "      <td>80005</td>\n",
       "      <td>0.000344</td>\n",
       "      <td>4.366391e-07</td>\n",
       "      <td>0.001268</td>\n",
       "      <td>1</td>\n",
       "      <td>0.055653</td>\n",
       "      <td>0.006188</td>\n",
       "    </tr>\n",
       "    <tr>\n",
       "      <td>80007</td>\n",
       "      <td>0.000786</td>\n",
       "      <td>1.514860e-07</td>\n",
       "      <td>0.000193</td>\n",
       "      <td>3</td>\n",
       "      <td>0.078534</td>\n",
       "      <td>0.010013</td>\n",
       "    </tr>\n",
       "    <tr>\n",
       "      <td>...</td>\n",
       "      <td>...</td>\n",
       "      <td>...</td>\n",
       "      <td>...</td>\n",
       "      <td>...</td>\n",
       "      <td>...</td>\n",
       "      <td>...</td>\n",
       "    </tr>\n",
       "    <tr>\n",
       "      <td>81648</td>\n",
       "      <td>0.002667</td>\n",
       "      <td>2.801883e-09</td>\n",
       "      <td>0.000001</td>\n",
       "      <td>1</td>\n",
       "      <td>0.073905</td>\n",
       "      <td>0.036082</td>\n",
       "    </tr>\n",
       "    <tr>\n",
       "      <td>81650</td>\n",
       "      <td>0.000609</td>\n",
       "      <td>4.242364e-09</td>\n",
       "      <td>0.000007</td>\n",
       "      <td>3</td>\n",
       "      <td>0.058721</td>\n",
       "      <td>0.010363</td>\n",
       "    </tr>\n",
       "    <tr>\n",
       "      <td>81652</td>\n",
       "      <td>0.000809</td>\n",
       "      <td>2.204362e-08</td>\n",
       "      <td>0.000027</td>\n",
       "      <td>1</td>\n",
       "      <td>0.085911</td>\n",
       "      <td>0.009412</td>\n",
       "    </tr>\n",
       "    <tr>\n",
       "      <td>81654</td>\n",
       "      <td>0.003289</td>\n",
       "      <td>2.829421e-08</td>\n",
       "      <td>0.000009</td>\n",
       "      <td>3</td>\n",
       "      <td>0.086184</td>\n",
       "      <td>0.038168</td>\n",
       "    </tr>\n",
       "    <tr>\n",
       "      <td>81657</td>\n",
       "      <td>0.017262</td>\n",
       "      <td>4.511195e-07</td>\n",
       "      <td>0.000026</td>\n",
       "      <td>3</td>\n",
       "      <td>0.019161</td>\n",
       "      <td>0.900901</td>\n",
       "    </tr>\n",
       "  </tbody>\n",
       "</table>\n",
       "<p>347 rows × 6 columns</p>\n",
       "</div>"
      ],
      "text/plain": [
       "         ven_per_pop  ven_per_meter  pop_per_meter  Classification  \\\n",
       "zipcode                                                              \n",
       "80002       0.001318   1.909859e-06       0.001449               3   \n",
       "80003       0.000627   1.660120e-06       0.002646               1   \n",
       "80004       0.000430   1.052264e-06       0.002449               3   \n",
       "80005       0.000344   4.366391e-07       0.001268               1   \n",
       "80007       0.000786   1.514860e-07       0.000193               3   \n",
       "...              ...            ...            ...             ...   \n",
       "81648       0.002667   2.801883e-09       0.000001               1   \n",
       "81650       0.000609   4.242364e-09       0.000007               3   \n",
       "81652       0.000809   2.204362e-08       0.000027               1   \n",
       "81654       0.003289   2.829421e-08       0.000009               3   \n",
       "81657       0.017262   4.511195e-07       0.000026               3   \n",
       "\n",
       "         ageless5_per_pop  ven_per_ageless5  \n",
       "zipcode                                      \n",
       "80002            0.060183          0.021898  \n",
       "80003            0.070573          0.008891  \n",
       "80004            0.056551          0.007597  \n",
       "80005            0.055653          0.006188  \n",
       "80007            0.078534          0.010013  \n",
       "...                   ...               ...  \n",
       "81648            0.073905          0.036082  \n",
       "81650            0.058721          0.010363  \n",
       "81652            0.085911          0.009412  \n",
       "81654            0.086184          0.038168  \n",
       "81657            0.019161          0.900901  \n",
       "\n",
       "[347 rows x 6 columns]"
      ]
     },
     "execution_count": 8,
     "metadata": {},
     "output_type": "execute_result"
    }
   ],
   "source": [
    "count_venuesPerPR = pd.DataFrame()\n",
    "count_venuesPerPR['zipcode'] = count_venuesPerVar['zipcode']\n",
    "count_venuesPerPR['ven_per_pop'] = count_venuesPerVar['venue_count'].div(count_venuesPerVar['pop'], axis=0)\n",
    "count_venuesPerPR['ven_per_meter'] = count_venuesPerVar['venue_count'].div( (math.pi*(count_venuesPerVar['radius_meters']**2) ), axis=0)\n",
    "count_venuesPerPR['pop_per_meter'] = count_venuesPerVar['pop'].div( (math.pi*(count_venuesPerVar['radius_meters']**2) ), axis=0)\n",
    "count_venuesPerPR['Classification'] =count_venuesPerVar['Classification']\n",
    "count_venuesPerPR['ageless5_per_pop']= count_venuesPerVar['ageless5'].div(count_venuesPerVar['pop'], axis=0)\n",
    "\n",
    "### adding this to compare..\n",
    "count_venuesPerPR['ven_per_ageless5']= count_venuesPerVar['venue_count'].div(count_venuesPerVar['ageless5'], axis=0)\n",
    "count_venuesPerPR.set_index('zipcode')"
   ]
  },
  {
   "cell_type": "markdown",
   "metadata": {},
   "source": [
    "### Let's look visually at how those ratios are distributed across the classifications"
   ]
  },
  {
   "cell_type": "markdown",
   "metadata": {},
   "source": [
    "#### This is to see how many venues there are distributed across CCD classification. Just raw number, not ratio of population or area."
   ]
  },
  {
   "cell_type": "code",
   "execution_count": 9,
   "metadata": {},
   "outputs": [
    {
     "data": {
      "image/png": "[encoded data removed]",
      "text/plain": [
       "<Figure size 432x288 with 3 Axes>"
      ]
     },
     "metadata": {
      "needs_background": "light"
     },
     "output_type": "display_data"
    }
   ],
   "source": [
    "classifV = count_venuesPerVar[count_venuesPerVar['Classification']==1]\n",
    "classifV2 = count_venuesPerVar[count_venuesPerVar['Classification']==2]\n",
    "classifV3 = count_venuesPerVar[count_venuesPerVar['Classification']==3]\n",
    "\n",
    "#fig, axes = plt.subplots(nrows=1,ncols=3)\n",
    "\n",
    "fig, (ax, ax2,ax3) = plt.subplots(ncols=3, sharey=True)\n",
    "\n",
    "ax.invert_xaxis()\n",
    "ax.yaxis.tick_right()\n",
    "\n",
    "classifV['venue_count'].plot(kind='box', ax = ax,figsize=(8, 5), subplots=True )\n",
    "classifV2['venue_count'].plot(kind='box', ax = ax2,figsize=(8, 5), subplots=True )\n",
    "classifV3['venue_count'].plot(kind='box', ax = ax3, figsize=(8, 5), subplots=True )\n",
    "\n",
    "plt.show()"
   ]
  },
  {
   "cell_type": "markdown",
   "metadata": {},
   "source": [
    "#### There are more venues in the 'Not Desert' class overall. But this could be because there is a greater area and or more people.\n",
    "#### Let's look further. "
   ]
  },
  {
   "cell_type": "code",
   "execution_count": 10,
   "metadata": {},
   "outputs": [
    {
     "name": "stdout",
     "output_type": "stream",
     "text": [
      "count    104.000000\n",
      "mean      18.788462\n",
      "std       22.396547\n",
      "min        1.000000\n",
      "25%        5.000000\n",
      "50%        9.500000\n",
      "75%       23.000000\n",
      "max      100.000000\n",
      "Name: venue_count, dtype: float64\n",
      "count    39.000000\n",
      "mean      5.615385\n",
      "std       8.034843\n",
      "min       1.000000\n",
      "25%       2.000000\n",
      "50%       4.000000\n",
      "75%       6.500000\n",
      "max      46.000000\n",
      "Name: venue_count, dtype: float64\n",
      "count    204.000000\n",
      "mean      30.245098\n",
      "std       29.220223\n",
      "min        1.000000\n",
      "25%        7.750000\n",
      "50%       20.000000\n",
      "75%       45.000000\n",
      "max      100.000000\n",
      "Name: venue_count, dtype: float64\n"
     ]
    }
   ],
   "source": [
    "print(classifV['venue_count'].describe())\n",
    "print(classifV2['venue_count'].describe())\n",
    "print(classifV3['venue_count'].describe())"
   ]
  },
  {
   "cell_type": "markdown",
   "metadata": {},
   "source": [
    "#### Now I'll explore if this is still true if we factor in population. "
   ]
  },
  {
   "cell_type": "code",
   "execution_count": 11,
   "metadata": {},
   "outputs": [
    {
     "data": {
      "image/png": "[encoded data removed]",
      "text/plain": [
       "<Figure size 432x288 with 3 Axes>"
      ]
     },
     "metadata": {
      "needs_background": "light"
     },
     "output_type": "display_data"
    }
   ],
   "source": [
    "classif = count_venuesPerPR[count_venuesPerPR['Classification']==1]\n",
    "classif2 = count_venuesPerPR[count_venuesPerPR['Classification']==2]\n",
    "classif3 = count_venuesPerPR[count_venuesPerPR['Classification']==3]\n",
    "\n",
    "#fig, axes = plt.subplots(nrows=1,ncols=3)\n",
    "\n",
    "fig, (ax, ax2,ax3) = plt.subplots(ncols=3, sharey=True)\n",
    "\n",
    "ax.invert_xaxis()\n",
    "ax.yaxis.tick_right()\n",
    "\n",
    "classif['ven_per_pop'].plot(kind='box', ax = ax,figsize=(8, 5), subplots=True )\n",
    "classif2['ven_per_pop'].plot(kind='box', ax = ax2,figsize=(8, 5), subplots=True )\n",
    "classif3['ven_per_pop'].plot(kind='box', ax = ax3, figsize=(8, 5), subplots=True )\n",
    "\n",
    "plt.show()"
   ]
  },
  {
   "cell_type": "markdown",
   "metadata": {},
   "source": [
    "### We see that the 'Few Children' has a higher ratio of venues per person.\n",
    "### But still there are more venues per person (on average .001173) in the non dessert vs the dessert. Deserts have only 61% of the venues per peson that Non-Deserts have according to this."
   ]
  },
  {
   "cell_type": "code",
   "execution_count": 12,
   "metadata": {},
   "outputs": [
    {
     "name": "stdout",
     "output_type": "stream",
     "text": [
      "count    104.000000\n",
      "mean       0.001840\n",
      "std        0.001714\n",
      "min        0.000144\n",
      "25%        0.000679\n",
      "50%        0.001366\n",
      "75%        0.002333\n",
      "max        0.007952\n",
      "Name: ven_per_pop, dtype: float64\n",
      "count    39.000000\n",
      "mean      0.009288\n",
      "std       0.008804\n",
      "min       0.000810\n",
      "25%       0.003927\n",
      "50%       0.007317\n",
      "75%       0.010902\n",
      "max       0.045161\n",
      "Name: ven_per_pop, dtype: float64\n",
      "count    204.000000\n",
      "mean       0.003013\n",
      "std        0.003675\n",
      "min        0.000058\n",
      "25%        0.000991\n",
      "50%        0.001911\n",
      "75%        0.003598\n",
      "max        0.031049\n",
      "Name: ven_per_pop, dtype: float64\n"
     ]
    }
   ],
   "source": [
    "print(classif['ven_per_pop'].describe())\n",
    "print(classif2['ven_per_pop'].describe())\n",
    "print(classif3['ven_per_pop'].describe())"
   ]
  },
  {
   "cell_type": "code",
   "execution_count": 13,
   "metadata": {},
   "outputs": [],
   "source": [
    "### How about for Children how many children are there per person across each classification"
   ]
  },
  {
   "cell_type": "code",
   "execution_count": 14,
   "metadata": {},
   "outputs": [
    {
     "data": {
      "image/png": "[encoded data removed]",
      "text/plain": [
       "<Figure size 432x288 with 3 Axes>"
      ]
     },
     "metadata": {
      "needs_background": "light"
     },
     "output_type": "display_data"
    }
   ],
   "source": [
    "classif = count_venuesPerPR[count_venuesPerPR['Classification']==1]\n",
    "classif2 = count_venuesPerPR[count_venuesPerPR['Classification']==2]\n",
    "classif3 = count_venuesPerPR[count_venuesPerPR['Classification']==3]\n",
    "\n",
    "#fig, axes = plt.subplots(nrows=1,ncols=3)\n",
    "\n",
    "fig, (ax, ax2,ax3) = plt.subplots(ncols=3, sharey=True)\n",
    "\n",
    "ax.invert_xaxis()\n",
    "ax.yaxis.tick_right()\n",
    "\n",
    "classif['ageless5_per_pop'].plot(kind='box', ax = ax,figsize=(8, 5), subplots=True )\n",
    "classif2['ageless5_per_pop'].plot(kind='box', ax = ax2,figsize=(8, 5), subplots=True )\n",
    "classif3['ageless5_per_pop'].plot(kind='box', ax = ax3, figsize=(8, 5), subplots=True )\n",
    "\n",
    "plt.show()"
   ]
  },
  {
   "cell_type": "code",
   "execution_count": 15,
   "metadata": {},
   "outputs": [
    {
     "name": "stdout",
     "output_type": "stream",
     "text": [
      "count    104.000000\n",
      "mean       0.072026\n",
      "std        0.022672\n",
      "min        0.011588\n",
      "25%        0.055808\n",
      "50%        0.071098\n",
      "75%        0.085337\n",
      "max        0.152656\n",
      "Name: ageless5_per_pop, dtype: float64\n",
      "count    39.000000\n",
      "mean      0.020212\n",
      "std       0.017287\n",
      "min       0.000000\n",
      "25%       0.004065\n",
      "50%       0.018639\n",
      "75%       0.032549\n",
      "max       0.061966\n",
      "Name: ageless5_per_pop, dtype: float64\n",
      "count    204.000000\n",
      "mean       0.054910\n",
      "std        0.020927\n",
      "min        0.007583\n",
      "25%        0.042681\n",
      "50%        0.053525\n",
      "75%        0.064219\n",
      "max        0.201681\n",
      "Name: ageless5_per_pop, dtype: float64\n"
     ]
    }
   ],
   "source": [
    "print(classif['ageless5_per_pop'].describe())\n",
    "print(classif2['ageless5_per_pop'].describe())\n",
    "print(classif3['ageless5_per_pop'].describe())"
   ]
  },
  {
   "cell_type": "markdown",
   "metadata": {},
   "source": [
    "### How about instead of population we look at how many venues there are per square meter of the zipcode sampled. "
   ]
  },
  {
   "cell_type": "code",
   "execution_count": 16,
   "metadata": {},
   "outputs": [
    {
     "data": {
      "image/png": "[encoded data removed]",
      "text/plain": [
       "<Figure size 432x288 with 3 Axes>"
      ]
     },
     "metadata": {
      "needs_background": "light"
     },
     "output_type": "display_data"
    }
   ],
   "source": [
    "#fig, axes = plt.subplots(nrows=1,ncols=3)\n",
    "\n",
    "fig, (ax, ax2,ax3) = plt.subplots(ncols=3, sharey=True)\n",
    "\n",
    "ax.invert_xaxis()\n",
    "ax.yaxis.tick_right()\n",
    "\n",
    "#df[\"a\"].plot(kind='barh', x='LABEL',  legend=False, ax=ax)\n",
    "#df2[\"b\"].plot(kind='barh', x='LABEL',ax=ax2)\n",
    "#plt.show()\n",
    "\n",
    "\n",
    "classif['ven_per_meter'].plot(kind='box', ax = ax,figsize=(8, 5), subplots=True )\n",
    "classif2['ven_per_meter'].plot(kind='box', ax = ax2,figsize=(8, 5), subplots=True )\n",
    "classif3['ven_per_meter'].plot(kind='box', ax = ax3, figsize=(8, 5), subplots=True )\n",
    "#plt.title('Histogram of Venue Count Frequency across Colorado ZIP codes') # add a title to the histogram\n",
    "#plt.ylabel('Number of Venues') # add y-label\n",
    "#plt.xlabel('Number of ZIP codes') # add x-label\n",
    "\n",
    "plt.show()"
   ]
  },
  {
   "cell_type": "markdown",
   "metadata": {},
   "source": [
    "### On average there are more venues per meter in the Non Desert class zipcodes. There are few people in  a large area and few venues in the 'Few Children' class. There are more outliers for the 'Non Desert' class tending toward higher venue per meter count. But this is tiny..."
   ]
  },
  {
   "cell_type": "code",
   "execution_count": 17,
   "metadata": {},
   "outputs": [
    {
     "name": "stdout",
     "output_type": "stream",
     "text": [
      "count    1.040000e+02\n",
      "mean     7.264633e-07\n",
      "std      1.508631e-06\n",
      "min      1.155138e-09\n",
      "25%      1.512625e-08\n",
      "50%      1.122732e-07\n",
      "75%      9.549297e-07\n",
      "max      1.044454e-05\n",
      "Name: ven_per_meter, dtype: float64\n",
      "count    3.900000e+01\n",
      "mean     1.100356e-07\n",
      "std      4.269423e-07\n",
      "min      3.837648e-10\n",
      "25%      2.971767e-09\n",
      "50%      6.653436e-09\n",
      "75%      2.143862e-08\n",
      "max      2.546479e-06\n",
      "Name: ven_per_meter, dtype: float64\n",
      "count    2.040000e+02\n",
      "mean     1.088638e-06\n",
      "std      3.795897e-06\n",
      "min      7.724281e-10\n",
      "25%      2.170021e-08\n",
      "50%      1.430245e-07\n",
      "75%      9.846794e-07\n",
      "max      4.973592e-05\n",
      "Name: ven_per_meter, dtype: float64\n"
     ]
    }
   ],
   "source": [
    "print(classif['ven_per_meter'].describe())\n",
    "print(classif2['ven_per_meter'].describe())\n",
    "print(classif3['ven_per_meter'].describe())"
   ]
  },
  {
   "cell_type": "markdown",
   "metadata": {},
   "source": [
    "### And finaly let's test to see what CCD class if more densely populated. This is an estimate since I did not use the actual area of each zipcode but instead a metric that I used to survey an area proportional to the area in the Colorado database. "
   ]
  },
  {
   "cell_type": "code",
   "execution_count": 18,
   "metadata": {},
   "outputs": [
    {
     "data": {
      "image/png": "[encoded data removed]",
      "text/plain": [
       "<Figure size 432x288 with 3 Axes>"
      ]
     },
     "metadata": {
      "needs_background": "light"
     },
     "output_type": "display_data"
    }
   ],
   "source": [
    "#fig, axes = plt.subplots(nrows=1,ncols=3)\n",
    "\n",
    "fig, (ax, ax2,ax3) = plt.subplots(ncols=3, sharey=True)\n",
    "\n",
    "ax.invert_xaxis()\n",
    "ax.yaxis.tick_right()\n",
    "\n",
    "classif['pop_per_meter'].plot(kind='box', ax = ax,figsize=(8, 5), subplots=True )\n",
    "classif2['pop_per_meter'].plot(kind='box', ax = ax2,figsize=(8, 5), subplots=True )\n",
    "classif3['pop_per_meter'].plot(kind='box', ax = ax3, figsize=(8, 5), subplots=True )\n",
    "\n",
    "plt.show()"
   ]
  },
  {
   "cell_type": "markdown",
   "metadata": {},
   "source": [
    "#### There are more people per meter in the desert vs non desert.  8.157751e-04 vs 7.658299e-04. That is only about 5e-05 per person. Not much per person, but once multiplied by the millions of people in each class, it adds up. All this indicates that in terms of venues, Child Care centers are not the only venues that 'CCD deserts' have fewer of."
   ]
  },
  {
   "cell_type": "code",
   "execution_count": 19,
   "metadata": {},
   "outputs": [
    {
     "name": "stdout",
     "output_type": "stream",
     "text": [
      "count    1.040000e+02\n",
      "mean     8.157751e-04\n",
      "std      1.510433e-03\n",
      "min      3.736607e-07\n",
      "25%      9.666193e-06\n",
      "50%      8.612289e-05\n",
      "75%      9.024981e-04\n",
      "max      1.012922e-02\n",
      "Name: pop_per_meter, dtype: float64\n",
      "count    3.900000e+01\n",
      "mean     9.083937e-06\n",
      "std      3.142723e-05\n",
      "min      1.174320e-07\n",
      "25%      4.230076e-07\n",
      "50%      1.321279e-06\n",
      "75%      3.554190e-06\n",
      "max      1.909859e-04\n",
      "Name: pop_per_meter, dtype: float64\n",
      "count    2.040000e+02\n",
      "mean     7.658299e-04\n",
      "std      1.202828e-03\n",
      "min      3.408434e-07\n",
      "25%      7.702478e-06\n",
      "50%      5.338886e-05\n",
      "75%      1.271398e-03\n",
      "max      6.427373e-03\n",
      "Name: pop_per_meter, dtype: float64\n"
     ]
    }
   ],
   "source": [
    "print(classif['pop_per_meter'].describe())\n",
    "print(classif2['pop_per_meter'].describe())\n",
    "print(classif3['pop_per_meter'].describe())"
   ]
  },
  {
   "cell_type": "markdown",
   "metadata": {},
   "source": [
    "### Overall the largest differences I could observe across the CCD classifications is that on average there are more venues per person in Non-Deserts. And there are more children under 5 per person in Deserts. Accordingly, there are more venues per child under 5 in Non-Deserts. This is in the same pattern as the defenition of Deserts, where there are fewer Child-Care options for children in these zip codes. There are also less venue options for 'children' in other categories too. Could this signal Food Deserts?"
   ]
  },
  {
   "cell_type": "markdown",
   "metadata": {},
   "source": [
    "### Let's check this: There should be more venues per child in non-deserts than deserts. "
   ]
  },
  {
   "cell_type": "code",
   "execution_count": 20,
   "metadata": {},
   "outputs": [
    {
     "data": {
      "image/png": "[encoded data removed]",
      "text/plain": [
       "<Figure size 432x288 with 3 Axes>"
      ]
     },
     "metadata": {
      "needs_background": "light"
     },
     "output_type": "display_data"
    }
   ],
   "source": [
    "#fig, axes = plt.subplots(nrows=1,ncols=3)\n",
    "\n",
    "fig, (ax, ax2,ax3) = plt.subplots(ncols=3, sharey=True)\n",
    "\n",
    "ax.invert_xaxis()\n",
    "ax.yaxis.tick_right()\n",
    "\n",
    "classif\n",
    "\n",
    "classif['ven_per_ageless5'].plot(kind='box', ax = ax,figsize=(8, 5), subplots=True )\n",
    "classif2['ven_per_ageless5'].plot(kind='box', ax = ax2,figsize=(8, 5), subplots=True )\n",
    "classif3['ven_per_ageless5'].plot(kind='box', ax = ax3, figsize=(8, 5), subplots=True )\n",
    "\n",
    "plt.show()"
   ]
  },
  {
   "cell_type": "code",
   "execution_count": 21,
   "metadata": {},
   "outputs": [
    {
     "name": "stdout",
     "output_type": "stream",
     "text": [
      "count    104.000000\n",
      "mean       0.029251\n",
      "std        0.031595\n",
      "min        0.001800\n",
      "25%        0.009133\n",
      "50%        0.021597\n",
      "75%        0.037594\n",
      "max        0.216080\n",
      "Name: ven_per_ageless5, dtype: float64\n",
      "count    39.000000\n",
      "mean           inf\n",
      "std            NaN\n",
      "min       0.034483\n",
      "25%       0.170290\n",
      "50%       0.344828\n",
      "75%            inf\n",
      "max            inf\n",
      "Name: ven_per_ageless5, dtype: float64\n",
      "count    204.000000\n",
      "mean       0.072516\n",
      "std        0.118875\n",
      "min        0.000433\n",
      "25%        0.017341\n",
      "50%        0.035869\n",
      "75%        0.071920\n",
      "max        0.900901\n",
      "Name: ven_per_ageless5, dtype: float64\n"
     ]
    }
   ],
   "source": [
    "print(classif['ven_per_ageless5'].describe())\n",
    "print(classif2['ven_per_ageless5'].describe())\n",
    "print(classif3['ven_per_ageless5'].describe())"
   ]
  },
  {
   "cell_type": "markdown",
   "metadata": {},
   "source": [
    "#### As observed, there are 2.47 X times more venues per child in the Non-Deserts than in Deserts. Approximate to the 3 times amount that is needed to be classified as a Non-Desert because child care centers are available. In the \"Few Children\" there are so few children in the zip code that the average is \"Infinite\" venues per child."
   ]
  },
  {
   "cell_type": "markdown",
   "metadata": {},
   "source": [
    "# Part II: Now lets look at what types of venues occur with higher frequency within each class"
   ]
  },
  {
   "cell_type": "markdown",
   "metadata": {},
   "source": [
    "### I want to see how many stores there are overall in each zip code so I will take the ratios that the one hot encoding gave me and get the total of each venue type by multiplying by the venue count of each zip code.\n",
    "\n",
    "### This will allow me to compare across zip codes because the ratios  may be un-proportional due to the drastically different venue counts across each zip code."
   ]
  },
  {
   "cell_type": "code",
   "execution_count": 22,
   "metadata": {},
   "outputs": [
    {
     "data": {
      "text/html": [
       "<div>\n",
       "<style scoped>\n",
       "    .dataframe tbody tr th:only-of-type {\n",
       "        vertical-align: middle;\n",
       "    }\n",
       "\n",
       "    .dataframe tbody tr th {\n",
       "        vertical-align: top;\n",
       "    }\n",
       "\n",
       "    .dataframe thead th {\n",
       "        text-align: right;\n",
       "    }\n",
       "</style>\n",
       "<table border=\"1\" class=\"dataframe\">\n",
       "  <thead>\n",
       "    <tr style=\"text-align: right;\">\n",
       "      <th></th>\n",
       "      <th>zipcode</th>\n",
       "      <th>venue_count</th>\n",
       "      <th>Unnamed: 0</th>\n",
       "      <th>child capacity</th>\n",
       "      <th>ageless5</th>\n",
       "      <th>pop</th>\n",
       "      <th>Latitude</th>\n",
       "      <th>Longitude</th>\n",
       "      <th>radius_meters</th>\n",
       "      <th>Desert</th>\n",
       "      <th>...</th>\n",
       "      <th>Water Park</th>\n",
       "      <th>Weight Loss Center</th>\n",
       "      <th>Whisky Bar</th>\n",
       "      <th>Wine Bar</th>\n",
       "      <th>Wine Shop</th>\n",
       "      <th>Winery</th>\n",
       "      <th>Wings Joint</th>\n",
       "      <th>Women's Store</th>\n",
       "      <th>Yoga Studio</th>\n",
       "      <th>Zoo</th>\n",
       "    </tr>\n",
       "  </thead>\n",
       "  <tbody>\n",
       "    <tr>\n",
       "      <td>0</td>\n",
       "      <td>80002</td>\n",
       "      <td>24</td>\n",
       "      <td>341</td>\n",
       "      <td>1245.0</td>\n",
       "      <td>1096</td>\n",
       "      <td>18211</td>\n",
       "      <td>39.795006</td>\n",
       "      <td>-105.09810</td>\n",
       "      <td>2000</td>\n",
       "      <td>0</td>\n",
       "      <td>...</td>\n",
       "      <td>0.0</td>\n",
       "      <td>0.0</td>\n",
       "      <td>0.0</td>\n",
       "      <td>0.0</td>\n",
       "      <td>0.0</td>\n",
       "      <td>0.0</td>\n",
       "      <td>0.0</td>\n",
       "      <td>0.0</td>\n",
       "      <td>0.0</td>\n",
       "      <td>0.0</td>\n",
       "    </tr>\n",
       "    <tr>\n",
       "      <td>1</td>\n",
       "      <td>80003</td>\n",
       "      <td>23</td>\n",
       "      <td>342</td>\n",
       "      <td>549.0</td>\n",
       "      <td>2587</td>\n",
       "      <td>36657</td>\n",
       "      <td>39.825357</td>\n",
       "      <td>-105.06439</td>\n",
       "      <td>2100</td>\n",
       "      <td>1</td>\n",
       "      <td>...</td>\n",
       "      <td>0.0</td>\n",
       "      <td>0.0</td>\n",
       "      <td>0.0</td>\n",
       "      <td>0.0</td>\n",
       "      <td>0.0</td>\n",
       "      <td>0.0</td>\n",
       "      <td>0.0</td>\n",
       "      <td>0.0</td>\n",
       "      <td>0.0</td>\n",
       "      <td>0.0</td>\n",
       "    </tr>\n",
       "    <tr>\n",
       "      <td>2</td>\n",
       "      <td>80004</td>\n",
       "      <td>16</td>\n",
       "      <td>343</td>\n",
       "      <td>1254.0</td>\n",
       "      <td>2106</td>\n",
       "      <td>37241</td>\n",
       "      <td>39.814310</td>\n",
       "      <td>-105.12263</td>\n",
       "      <td>2200</td>\n",
       "      <td>0</td>\n",
       "      <td>...</td>\n",
       "      <td>0.0</td>\n",
       "      <td>0.0</td>\n",
       "      <td>0.0</td>\n",
       "      <td>0.0</td>\n",
       "      <td>0.0</td>\n",
       "      <td>0.0</td>\n",
       "      <td>0.0</td>\n",
       "      <td>0.0</td>\n",
       "      <td>0.0</td>\n",
       "      <td>0.0</td>\n",
       "    </tr>\n",
       "    <tr>\n",
       "      <td>3</td>\n",
       "      <td>80005</td>\n",
       "      <td>10</td>\n",
       "      <td>344</td>\n",
       "      <td>462.0</td>\n",
       "      <td>1616</td>\n",
       "      <td>29037</td>\n",
       "      <td>39.843304</td>\n",
       "      <td>-105.11896</td>\n",
       "      <td>2700</td>\n",
       "      <td>1</td>\n",
       "      <td>...</td>\n",
       "      <td>0.0</td>\n",
       "      <td>0.0</td>\n",
       "      <td>0.0</td>\n",
       "      <td>0.0</td>\n",
       "      <td>0.0</td>\n",
       "      <td>0.0</td>\n",
       "      <td>0.0</td>\n",
       "      <td>0.0</td>\n",
       "      <td>0.0</td>\n",
       "      <td>0.0</td>\n",
       "    </tr>\n",
       "    <tr>\n",
       "      <td>4</td>\n",
       "      <td>80007</td>\n",
       "      <td>8</td>\n",
       "      <td>345</td>\n",
       "      <td>389.0</td>\n",
       "      <td>799</td>\n",
       "      <td>10174</td>\n",
       "      <td>39.833442</td>\n",
       "      <td>-105.18591</td>\n",
       "      <td>4100</td>\n",
       "      <td>0</td>\n",
       "      <td>...</td>\n",
       "      <td>0.0</td>\n",
       "      <td>0.0</td>\n",
       "      <td>0.0</td>\n",
       "      <td>0.0</td>\n",
       "      <td>0.0</td>\n",
       "      <td>0.0</td>\n",
       "      <td>0.0</td>\n",
       "      <td>0.0</td>\n",
       "      <td>0.0</td>\n",
       "      <td>0.0</td>\n",
       "    </tr>\n",
       "  </tbody>\n",
       "</table>\n",
       "<p>5 rows × 432 columns</p>\n",
       "</div>"
      ],
      "text/plain": [
       "   zipcode  venue_count  Unnamed: 0  child capacity  ageless5    pop  \\\n",
       "0    80002           24         341          1245.0      1096  18211   \n",
       "1    80003           23         342           549.0      2587  36657   \n",
       "2    80004           16         343          1254.0      2106  37241   \n",
       "3    80005           10         344           462.0      1616  29037   \n",
       "4    80007            8         345           389.0       799  10174   \n",
       "\n",
       "    Latitude  Longitude  radius_meters  Desert  ...  Water Park  \\\n",
       "0  39.795006 -105.09810           2000       0  ...         0.0   \n",
       "1  39.825357 -105.06439           2100       1  ...         0.0   \n",
       "2  39.814310 -105.12263           2200       0  ...         0.0   \n",
       "3  39.843304 -105.11896           2700       1  ...         0.0   \n",
       "4  39.833442 -105.18591           4100       0  ...         0.0   \n",
       "\n",
       "   Weight Loss Center  Whisky Bar Wine Bar Wine Shop Winery Wings Joint  \\\n",
       "0                 0.0         0.0      0.0       0.0    0.0         0.0   \n",
       "1                 0.0         0.0      0.0       0.0    0.0         0.0   \n",
       "2                 0.0         0.0      0.0       0.0    0.0         0.0   \n",
       "3                 0.0         0.0      0.0       0.0    0.0         0.0   \n",
       "4                 0.0         0.0      0.0       0.0    0.0         0.0   \n",
       "\n",
       "  Women's Store Yoga Studio  Zoo  \n",
       "0           0.0         0.0  0.0  \n",
       "1           0.0         0.0  0.0  \n",
       "2           0.0         0.0  0.0  \n",
       "3           0.0         0.0  0.0  \n",
       "4           0.0         0.0  0.0  \n",
       "\n",
       "[5 rows x 432 columns]"
      ]
     },
     "execution_count": 22,
     "metadata": {},
     "output_type": "execute_result"
    }
   ],
   "source": [
    "colo_merged2 =pd.concat([colo_merged[colo_merged.columns[0:13]],(colo_merged[colo_merged.columns[14:]].mul(count_venues['venue_count'],axis =0))], axis=1)\n",
    "colo_merged2.head()"
   ]
  },
  {
   "cell_type": "code",
   "execution_count": 23,
   "metadata": {},
   "outputs": [
    {
     "data": {
      "text/html": [
       "<div>\n",
       "<style scoped>\n",
       "    .dataframe tbody tr th:only-of-type {\n",
       "        vertical-align: middle;\n",
       "    }\n",
       "\n",
       "    .dataframe tbody tr th {\n",
       "        vertical-align: top;\n",
       "    }\n",
       "\n",
       "    .dataframe thead th {\n",
       "        text-align: right;\n",
       "    }\n",
       "</style>\n",
       "<table border=\"1\" class=\"dataframe\">\n",
       "  <thead>\n",
       "    <tr style=\"text-align: right;\">\n",
       "      <th></th>\n",
       "      <th>zipcode</th>\n",
       "      <th>venue_count</th>\n",
       "      <th>Unnamed: 0</th>\n",
       "      <th>child capacity</th>\n",
       "      <th>ageless5</th>\n",
       "      <th>pop</th>\n",
       "      <th>Latitude</th>\n",
       "      <th>Longitude</th>\n",
       "      <th>radius_meters</th>\n",
       "      <th>Desert</th>\n",
       "      <th>...</th>\n",
       "      <th>Water Park</th>\n",
       "      <th>Weight Loss Center</th>\n",
       "      <th>Whisky Bar</th>\n",
       "      <th>Wine Bar</th>\n",
       "      <th>Wine Shop</th>\n",
       "      <th>Winery</th>\n",
       "      <th>Wings Joint</th>\n",
       "      <th>Women's Store</th>\n",
       "      <th>Yoga Studio</th>\n",
       "      <th>Zoo</th>\n",
       "    </tr>\n",
       "    <tr>\n",
       "      <th>Classification</th>\n",
       "      <th></th>\n",
       "      <th></th>\n",
       "      <th></th>\n",
       "      <th></th>\n",
       "      <th></th>\n",
       "      <th></th>\n",
       "      <th></th>\n",
       "      <th></th>\n",
       "      <th></th>\n",
       "      <th></th>\n",
       "      <th></th>\n",
       "      <th></th>\n",
       "      <th></th>\n",
       "      <th></th>\n",
       "      <th></th>\n",
       "      <th></th>\n",
       "      <th></th>\n",
       "      <th></th>\n",
       "      <th></th>\n",
       "      <th></th>\n",
       "      <th></th>\n",
       "    </tr>\n",
       "  </thead>\n",
       "  <tbody>\n",
       "    <tr>\n",
       "      <td>1</td>\n",
       "      <td>8392233</td>\n",
       "      <td>1954</td>\n",
       "      <td>19087</td>\n",
       "      <td>28850.0</td>\n",
       "      <td>124063</td>\n",
       "      <td>1679885</td>\n",
       "      <td>4111.572052</td>\n",
       "      <td>-10943.030048</td>\n",
       "      <td>875200</td>\n",
       "      <td>104</td>\n",
       "      <td>...</td>\n",
       "      <td>0.0</td>\n",
       "      <td>0.0</td>\n",
       "      <td>1.0</td>\n",
       "      <td>4.0</td>\n",
       "      <td>2.0</td>\n",
       "      <td>4.0</td>\n",
       "      <td>6.0</td>\n",
       "      <td>1.0</td>\n",
       "      <td>1.0</td>\n",
       "      <td>1.0</td>\n",
       "    </tr>\n",
       "    <tr>\n",
       "      <td>2</td>\n",
       "      <td>3156673</td>\n",
       "      <td>219</td>\n",
       "      <td>7778</td>\n",
       "      <td>3840.0</td>\n",
       "      <td>477</td>\n",
       "      <td>27225</td>\n",
       "      <td>1516.362436</td>\n",
       "      <td>-4110.860200</td>\n",
       "      <td>493100</td>\n",
       "      <td>0</td>\n",
       "      <td>...</td>\n",
       "      <td>0.0</td>\n",
       "      <td>0.0</td>\n",
       "      <td>0.0</td>\n",
       "      <td>1.0</td>\n",
       "      <td>0.0</td>\n",
       "      <td>0.0</td>\n",
       "      <td>0.0</td>\n",
       "      <td>1.0</td>\n",
       "      <td>0.0</td>\n",
       "      <td>0.0</td>\n",
       "    </tr>\n",
       "    <tr>\n",
       "      <td>3</td>\n",
       "      <td>16461748</td>\n",
       "      <td>6170</td>\n",
       "      <td>39329</td>\n",
       "      <td>136700.0</td>\n",
       "      <td>198091</td>\n",
       "      <td>3527451</td>\n",
       "      <td>8006.311937</td>\n",
       "      <td>-21507.232935</td>\n",
       "      <td>1857200</td>\n",
       "      <td>0</td>\n",
       "      <td>...</td>\n",
       "      <td>1.0</td>\n",
       "      <td>1.0</td>\n",
       "      <td>2.0</td>\n",
       "      <td>9.0</td>\n",
       "      <td>4.0</td>\n",
       "      <td>1.0</td>\n",
       "      <td>13.0</td>\n",
       "      <td>8.0</td>\n",
       "      <td>12.0</td>\n",
       "      <td>2.0</td>\n",
       "    </tr>\n",
       "  </tbody>\n",
       "</table>\n",
       "<p>3 rows × 421 columns</p>\n",
       "</div>"
      ],
      "text/plain": [
       "                 zipcode  venue_count  Unnamed: 0  child capacity  ageless5  \\\n",
       "Classification                                                                \n",
       "1                8392233         1954       19087         28850.0    124063   \n",
       "2                3156673          219        7778          3840.0       477   \n",
       "3               16461748         6170       39329        136700.0    198091   \n",
       "\n",
       "                    pop     Latitude     Longitude  radius_meters  Desert  \\\n",
       "Classification                                                              \n",
       "1               1679885  4111.572052 -10943.030048         875200     104   \n",
       "2                 27225  1516.362436  -4110.860200         493100       0   \n",
       "3               3527451  8006.311937 -21507.232935        1857200       0   \n",
       "\n",
       "                ...  Water Park  Weight Loss Center  Whisky Bar  Wine Bar  \\\n",
       "Classification  ...                                                         \n",
       "1               ...         0.0                 0.0         1.0       4.0   \n",
       "2               ...         0.0                 0.0         0.0       1.0   \n",
       "3               ...         1.0                 1.0         2.0       9.0   \n",
       "\n",
       "                Wine Shop  Winery  Wings Joint  Women's Store  Yoga Studio  \\\n",
       "Classification                                                               \n",
       "1                     2.0     4.0          6.0            1.0          1.0   \n",
       "2                     0.0     0.0          0.0            1.0          0.0   \n",
       "3                     4.0     1.0         13.0            8.0         12.0   \n",
       "\n",
       "                Zoo  \n",
       "Classification       \n",
       "1               1.0  \n",
       "2               0.0  \n",
       "3               2.0  \n",
       "\n",
       "[3 rows x 421 columns]"
      ]
     },
     "execution_count": 23,
     "metadata": {},
     "output_type": "execute_result"
    }
   ],
   "source": [
    "#Which stores happen within each classification in total (not by zipcode)\n",
    "df_class = colo_merged2.groupby('Classification').sum()\n",
    "df_class.head()\n",
    "\n"
   ]
  },
  {
   "cell_type": "markdown",
   "metadata": {},
   "source": [
    "### Separating different variables I'll use further on."
   ]
  },
  {
   "cell_type": "code",
   "execution_count": 24,
   "metadata": {},
   "outputs": [
    {
     "name": "stdout",
     "output_type": "stream",
     "text": [
      "3527451\n"
     ]
    },
    {
     "data": {
      "text/plain": [
       "6170"
      ]
     },
     "execution_count": 24,
     "metadata": {},
     "output_type": "execute_result"
    }
   ],
   "source": [
    "pop_class1 = df_class.loc[1,'pop']\n",
    "pop_class2 = df_class.loc[2,'pop']\n",
    "pop_class3 = df_class.loc[3,'pop']\n",
    "\n",
    "venCoun_class1 = df_class.loc[1,'venue_count']\n",
    "venCoun_class2 = df_class.loc[2,'venue_count']\n",
    "venCoun_class3 = df_class.loc[3,'venue_count']\n",
    "\n",
    "#Checking my syntax for what I want is correct\n",
    "print(pop_class3)\n",
    "venCoun_class3"
   ]
  },
  {
   "cell_type": "code",
   "execution_count": 25,
   "metadata": {},
   "outputs": [],
   "source": [
    "# Now I can drop everything but the venues to study them\n",
    "df_classVen = df_class.drop(df_class.columns[0:13], axis=1 )"
   ]
  },
  {
   "cell_type": "markdown",
   "metadata": {},
   "source": [
    "### As you can observe, they are whole numbers - as they should. "
   ]
  },
  {
   "cell_type": "code",
   "execution_count": 26,
   "metadata": {},
   "outputs": [
    {
     "data": {
      "text/html": [
       "<div>\n",
       "<style scoped>\n",
       "    .dataframe tbody tr th:only-of-type {\n",
       "        vertical-align: middle;\n",
       "    }\n",
       "\n",
       "    .dataframe tbody tr th {\n",
       "        vertical-align: top;\n",
       "    }\n",
       "\n",
       "    .dataframe thead th {\n",
       "        text-align: right;\n",
       "    }\n",
       "</style>\n",
       "<table border=\"1\" class=\"dataframe\">\n",
       "  <thead>\n",
       "    <tr style=\"text-align: right;\">\n",
       "      <th></th>\n",
       "      <th>Accessories Store</th>\n",
       "      <th>Adult Boutique</th>\n",
       "      <th>Advertising Agency</th>\n",
       "      <th>Airport</th>\n",
       "      <th>Airport Food Court</th>\n",
       "      <th>Airport Lounge</th>\n",
       "      <th>Airport Service</th>\n",
       "      <th>Airport Terminal</th>\n",
       "      <th>Alternative Healer</th>\n",
       "      <th>American Restaurant</th>\n",
       "      <th>...</th>\n",
       "      <th>Water Park</th>\n",
       "      <th>Weight Loss Center</th>\n",
       "      <th>Whisky Bar</th>\n",
       "      <th>Wine Bar</th>\n",
       "      <th>Wine Shop</th>\n",
       "      <th>Winery</th>\n",
       "      <th>Wings Joint</th>\n",
       "      <th>Women's Store</th>\n",
       "      <th>Yoga Studio</th>\n",
       "      <th>Zoo</th>\n",
       "    </tr>\n",
       "    <tr>\n",
       "      <th>Classification</th>\n",
       "      <th></th>\n",
       "      <th></th>\n",
       "      <th></th>\n",
       "      <th></th>\n",
       "      <th></th>\n",
       "      <th></th>\n",
       "      <th></th>\n",
       "      <th></th>\n",
       "      <th></th>\n",
       "      <th></th>\n",
       "      <th></th>\n",
       "      <th></th>\n",
       "      <th></th>\n",
       "      <th></th>\n",
       "      <th></th>\n",
       "      <th></th>\n",
       "      <th></th>\n",
       "      <th></th>\n",
       "      <th></th>\n",
       "      <th></th>\n",
       "      <th></th>\n",
       "    </tr>\n",
       "  </thead>\n",
       "  <tbody>\n",
       "    <tr>\n",
       "      <td>1</td>\n",
       "      <td>2.0</td>\n",
       "      <td>0.0</td>\n",
       "      <td>0.0</td>\n",
       "      <td>4.0</td>\n",
       "      <td>1.0</td>\n",
       "      <td>1.0</td>\n",
       "      <td>1.0</td>\n",
       "      <td>4.0</td>\n",
       "      <td>1.0</td>\n",
       "      <td>52.0</td>\n",
       "      <td>...</td>\n",
       "      <td>0.0</td>\n",
       "      <td>0.0</td>\n",
       "      <td>1.0</td>\n",
       "      <td>4.0</td>\n",
       "      <td>2.0</td>\n",
       "      <td>4.0</td>\n",
       "      <td>6.0</td>\n",
       "      <td>1.0</td>\n",
       "      <td>1.0</td>\n",
       "      <td>1.0</td>\n",
       "    </tr>\n",
       "    <tr>\n",
       "      <td>2</td>\n",
       "      <td>0.0</td>\n",
       "      <td>0.0</td>\n",
       "      <td>0.0</td>\n",
       "      <td>0.0</td>\n",
       "      <td>0.0</td>\n",
       "      <td>0.0</td>\n",
       "      <td>0.0</td>\n",
       "      <td>0.0</td>\n",
       "      <td>0.0</td>\n",
       "      <td>17.0</td>\n",
       "      <td>...</td>\n",
       "      <td>0.0</td>\n",
       "      <td>0.0</td>\n",
       "      <td>0.0</td>\n",
       "      <td>1.0</td>\n",
       "      <td>0.0</td>\n",
       "      <td>0.0</td>\n",
       "      <td>0.0</td>\n",
       "      <td>1.0</td>\n",
       "      <td>0.0</td>\n",
       "      <td>0.0</td>\n",
       "    </tr>\n",
       "    <tr>\n",
       "      <td>3</td>\n",
       "      <td>5.0</td>\n",
       "      <td>1.0</td>\n",
       "      <td>2.0</td>\n",
       "      <td>17.0</td>\n",
       "      <td>0.0</td>\n",
       "      <td>0.0</td>\n",
       "      <td>1.0</td>\n",
       "      <td>6.0</td>\n",
       "      <td>2.0</td>\n",
       "      <td>233.0</td>\n",
       "      <td>...</td>\n",
       "      <td>1.0</td>\n",
       "      <td>1.0</td>\n",
       "      <td>2.0</td>\n",
       "      <td>9.0</td>\n",
       "      <td>4.0</td>\n",
       "      <td>1.0</td>\n",
       "      <td>13.0</td>\n",
       "      <td>8.0</td>\n",
       "      <td>12.0</td>\n",
       "      <td>2.0</td>\n",
       "    </tr>\n",
       "  </tbody>\n",
       "</table>\n",
       "<p>3 rows × 408 columns</p>\n",
       "</div>"
      ],
      "text/plain": [
       "                Accessories Store  Adult Boutique  Advertising Agency  \\\n",
       "Classification                                                          \n",
       "1                             2.0             0.0                 0.0   \n",
       "2                             0.0             0.0                 0.0   \n",
       "3                             5.0             1.0                 2.0   \n",
       "\n",
       "                Airport  Airport Food Court  Airport Lounge  Airport Service  \\\n",
       "Classification                                                                 \n",
       "1                   4.0                 1.0             1.0              1.0   \n",
       "2                   0.0                 0.0             0.0              0.0   \n",
       "3                  17.0                 0.0             0.0              1.0   \n",
       "\n",
       "                Airport Terminal  Alternative Healer  American Restaurant  \\\n",
       "Classification                                                              \n",
       "1                            4.0                 1.0                 52.0   \n",
       "2                            0.0                 0.0                 17.0   \n",
       "3                            6.0                 2.0                233.0   \n",
       "\n",
       "                ...  Water Park  Weight Loss Center  Whisky Bar  Wine Bar  \\\n",
       "Classification  ...                                                         \n",
       "1               ...         0.0                 0.0         1.0       4.0   \n",
       "2               ...         0.0                 0.0         0.0       1.0   \n",
       "3               ...         1.0                 1.0         2.0       9.0   \n",
       "\n",
       "                Wine Shop  Winery  Wings Joint  Women's Store  Yoga Studio  \\\n",
       "Classification                                                               \n",
       "1                     2.0     4.0          6.0            1.0          1.0   \n",
       "2                     0.0     0.0          0.0            1.0          0.0   \n",
       "3                     4.0     1.0         13.0            8.0         12.0   \n",
       "\n",
       "                Zoo  \n",
       "Classification       \n",
       "1               1.0  \n",
       "2               0.0  \n",
       "3               2.0  \n",
       "\n",
       "[3 rows x 408 columns]"
      ]
     },
     "execution_count": 26,
     "metadata": {},
     "output_type": "execute_result"
    }
   ],
   "source": [
    "df_classVen"
   ]
  },
  {
   "cell_type": "code",
   "execution_count": 27,
   "metadata": {},
   "outputs": [],
   "source": [
    "df_classVen.to_csv(r'df_classVen.csv')\n"
   ]
  },
  {
   "cell_type": "code",
   "execution_count": 28,
   "metadata": {},
   "outputs": [],
   "source": [
    "df_classVen = pd.read_csv('df_classVen.csv')"
   ]
  },
  {
   "cell_type": "code",
   "execution_count": 29,
   "metadata": {},
   "outputs": [],
   "source": [
    "def return_most_common_venues(row, num_top_venues):\n",
    "    row_categories = row.iloc[1:]\n",
    "    row_categories_sorted = row_categories.sort_values(ascending=False)\n",
    "    \n",
    "    return row_categories_sorted.index.values[0:num_top_venues]"
   ]
  },
  {
   "cell_type": "code",
   "execution_count": 30,
   "metadata": {},
   "outputs": [
    {
     "data": {
      "text/html": [
       "<div>\n",
       "<style scoped>\n",
       "    .dataframe tbody tr th:only-of-type {\n",
       "        vertical-align: middle;\n",
       "    }\n",
       "\n",
       "    .dataframe tbody tr th {\n",
       "        vertical-align: top;\n",
       "    }\n",
       "\n",
       "    .dataframe thead th {\n",
       "        text-align: right;\n",
       "    }\n",
       "</style>\n",
       "<table border=\"1\" class=\"dataframe\">\n",
       "  <thead>\n",
       "    <tr style=\"text-align: right;\">\n",
       "      <th></th>\n",
       "      <th>Classification</th>\n",
       "      <th>1st Most Common Venue</th>\n",
       "      <th>2nd Most Common Venue</th>\n",
       "      <th>3rd Most Common Venue</th>\n",
       "      <th>4th Most Common Venue</th>\n",
       "      <th>5th Most Common Venue</th>\n",
       "      <th>6th Most Common Venue</th>\n",
       "      <th>7th Most Common Venue</th>\n",
       "      <th>8th Most Common Venue</th>\n",
       "      <th>9th Most Common Venue</th>\n",
       "      <th>10th Most Common Venue</th>\n",
       "    </tr>\n",
       "  </thead>\n",
       "  <tbody>\n",
       "    <tr>\n",
       "      <td>0</td>\n",
       "      <td>1</td>\n",
       "      <td>Fast Food Restaurant</td>\n",
       "      <td>Mexican Restaurant</td>\n",
       "      <td>Pizza Place</td>\n",
       "      <td>Coffee Shop</td>\n",
       "      <td>Convenience Store</td>\n",
       "      <td>Sandwich Place</td>\n",
       "      <td>American Restaurant</td>\n",
       "      <td>Park</td>\n",
       "      <td>Grocery Store</td>\n",
       "      <td>Hotel</td>\n",
       "    </tr>\n",
       "    <tr>\n",
       "      <td>1</td>\n",
       "      <td>2</td>\n",
       "      <td>American Restaurant</td>\n",
       "      <td>Trail</td>\n",
       "      <td>Hotel</td>\n",
       "      <td>Campground</td>\n",
       "      <td>Bar</td>\n",
       "      <td>Restaurant</td>\n",
       "      <td>Resort</td>\n",
       "      <td>Coffee Shop</td>\n",
       "      <td>Ski Area</td>\n",
       "      <td>BBQ Joint</td>\n",
       "    </tr>\n",
       "    <tr>\n",
       "      <td>2</td>\n",
       "      <td>3</td>\n",
       "      <td>Coffee Shop</td>\n",
       "      <td>Pizza Place</td>\n",
       "      <td>Fast Food Restaurant</td>\n",
       "      <td>Mexican Restaurant</td>\n",
       "      <td>American Restaurant</td>\n",
       "      <td>Hotel</td>\n",
       "      <td>Sandwich Place</td>\n",
       "      <td>Grocery Store</td>\n",
       "      <td>Park</td>\n",
       "      <td>Convenience Store</td>\n",
       "    </tr>\n",
       "  </tbody>\n",
       "</table>\n",
       "</div>"
      ],
      "text/plain": [
       "   Classification 1st Most Common Venue 2nd Most Common Venue  \\\n",
       "0               1  Fast Food Restaurant    Mexican Restaurant   \n",
       "1               2   American Restaurant                 Trail   \n",
       "2               3           Coffee Shop           Pizza Place   \n",
       "\n",
       "  3rd Most Common Venue 4th Most Common Venue 5th Most Common Venue  \\\n",
       "0           Pizza Place           Coffee Shop     Convenience Store   \n",
       "1                 Hotel            Campground                   Bar   \n",
       "2  Fast Food Restaurant    Mexican Restaurant   American Restaurant   \n",
       "\n",
       "  6th Most Common Venue 7th Most Common Venue 8th Most Common Venue  \\\n",
       "0        Sandwich Place   American Restaurant                  Park   \n",
       "1            Restaurant                Resort           Coffee Shop   \n",
       "2                 Hotel        Sandwich Place         Grocery Store   \n",
       "\n",
       "  9th Most Common Venue 10th Most Common Venue  \n",
       "0         Grocery Store                  Hotel  \n",
       "1              Ski Area              BBQ Joint  \n",
       "2                  Park      Convenience Store  "
      ]
     },
     "execution_count": 30,
     "metadata": {},
     "output_type": "execute_result"
    }
   ],
   "source": [
    "num_top_venues = 10\n",
    "\n",
    "indicators = ['st', 'nd', 'rd']\n",
    "\n",
    "# create columns according to number of top venues\n",
    "columns = ['Classification']\n",
    "for ind in np.arange(num_top_venues):\n",
    "    try:\n",
    "        columns.append('{}{} Most Common Venue'.format(ind+1, indicators[ind]))\n",
    "    except:\n",
    "        columns.append('{}th Most Common Venue'.format(ind+1))\n",
    "\n",
    "# create a new dataframe\n",
    "classification_venues_sorted = pd.DataFrame(columns=columns)\n",
    "classification_venues_sorted['Classification'] = df_classVen['Classification']\n",
    "\n",
    "for ind in np.arange(df_classVen.shape[0]):\n",
    "    classification_venues_sorted.iloc[ind, 1:] = return_most_common_venues(df_classVen.iloc[ind, :], num_top_venues)\n",
    "\n",
    "classification_venues_sorted"
   ]
  },
  {
   "cell_type": "markdown",
   "metadata": {},
   "source": [
    "### After sorting I can see that there are more fast food and mexican restaurants in the Deserts and more coffee shops and pizza places in the non-deserts. Does this indicate there may be a demographic difference in each zip code classification?"
   ]
  },
  {
   "cell_type": "markdown",
   "metadata": {},
   "source": [
    "### I'm taking the top 10 of each list and creating a list of the unique venues of all these."
   ]
  },
  {
   "cell_type": "code",
   "execution_count": 31,
   "metadata": {},
   "outputs": [],
   "source": [
    "classification_venues_sorted.to_csv(r'classification_venues_sorted.csv')"
   ]
  },
  {
   "cell_type": "code",
   "execution_count": 32,
   "metadata": {},
   "outputs": [
    {
     "data": {
      "text/plain": [
       "['American Restaurant',\n",
       " 'Trail',\n",
       " 'Hotel',\n",
       " 'Campground',\n",
       " 'Bar',\n",
       " 'Restaurant',\n",
       " 'Resort',\n",
       " 'Coffee Shop',\n",
       " 'Ski Area',\n",
       " 'BBQ Joint',\n",
       " 'Coffee Shop',\n",
       " 'Pizza Place',\n",
       " 'Fast Food Restaurant',\n",
       " 'Mexican Restaurant',\n",
       " 'American Restaurant',\n",
       " 'Hotel',\n",
       " 'Sandwich Place',\n",
       " 'Grocery Store',\n",
       " 'Park',\n",
       " 'Convenience Store',\n",
       " 'Fast Food Restaurant',\n",
       " 'Mexican Restaurant',\n",
       " 'Pizza Place',\n",
       " 'Coffee Shop',\n",
       " 'Convenience Store',\n",
       " 'Sandwich Place',\n",
       " 'American Restaurant',\n",
       " 'Park',\n",
       " 'Grocery Store',\n",
       " 'Hotel']"
      ]
     },
     "execution_count": 32,
     "metadata": {},
     "output_type": "execute_result"
    }
   ],
   "source": [
    "list_class = classification_venues_sorted.values.tolist()\n",
    "list_class = list_class[1]+list_class[2]+list_class[0]\n",
    "list_class.remove(1)\n",
    "list_class.remove(2)\n",
    "list_class.remove(3)\n",
    "list_class"
   ]
  },
  {
   "cell_type": "code",
   "execution_count": 33,
   "metadata": {},
   "outputs": [
    {
     "data": {
      "text/plain": [
       "array(['American Restaurant', 'BBQ Joint', 'Bar', 'Campground',\n",
       "       'Coffee Shop', 'Convenience Store', 'Fast Food Restaurant',\n",
       "       'Grocery Store', 'Hotel', 'Mexican Restaurant', 'Park',\n",
       "       'Pizza Place', 'Resort', 'Restaurant', 'Sandwich Place',\n",
       "       'Ski Area', 'Trail'], dtype='<U20')"
      ]
     },
     "execution_count": 33,
     "metadata": {},
     "output_type": "execute_result"
    }
   ],
   "source": [
    "x10 = np.array(list_class) \n",
    "x10 = np.unique(x10)\n",
    "x10"
   ]
  },
  {
   "cell_type": "markdown",
   "metadata": {},
   "source": [
    "### These are the unique places in the top 10 of the 3 classifcations\n",
    "### Let's drop from df_class places that are not in the top 10. This leaves me with the actual number of venues of the top 10 in each class. "
   ]
  },
  {
   "cell_type": "code",
   "execution_count": 34,
   "metadata": {},
   "outputs": [],
   "source": [
    "df_classVen = df_classVen[x10]"
   ]
  },
  {
   "cell_type": "code",
   "execution_count": 35,
   "metadata": {},
   "outputs": [
    {
     "data": {
      "text/html": [
       "<div>\n",
       "<style scoped>\n",
       "    .dataframe tbody tr th:only-of-type {\n",
       "        vertical-align: middle;\n",
       "    }\n",
       "\n",
       "    .dataframe tbody tr th {\n",
       "        vertical-align: top;\n",
       "    }\n",
       "\n",
       "    .dataframe thead th {\n",
       "        text-align: right;\n",
       "    }\n",
       "</style>\n",
       "<table border=\"1\" class=\"dataframe\">\n",
       "  <thead>\n",
       "    <tr style=\"text-align: right;\">\n",
       "      <th></th>\n",
       "      <th>American Restaurant</th>\n",
       "      <th>BBQ Joint</th>\n",
       "      <th>Bar</th>\n",
       "      <th>Campground</th>\n",
       "      <th>Coffee Shop</th>\n",
       "      <th>Convenience Store</th>\n",
       "      <th>Fast Food Restaurant</th>\n",
       "      <th>Grocery Store</th>\n",
       "      <th>Hotel</th>\n",
       "      <th>Mexican Restaurant</th>\n",
       "      <th>Park</th>\n",
       "      <th>Pizza Place</th>\n",
       "      <th>Resort</th>\n",
       "      <th>Restaurant</th>\n",
       "      <th>Sandwich Place</th>\n",
       "      <th>Ski Area</th>\n",
       "      <th>Trail</th>\n",
       "    </tr>\n",
       "  </thead>\n",
       "  <tbody>\n",
       "    <tr>\n",
       "      <td>0</td>\n",
       "      <td>52.0</td>\n",
       "      <td>9.0</td>\n",
       "      <td>31.0</td>\n",
       "      <td>6.0</td>\n",
       "      <td>78.0</td>\n",
       "      <td>75.0</td>\n",
       "      <td>97.0</td>\n",
       "      <td>46.0</td>\n",
       "      <td>46.0</td>\n",
       "      <td>92.0</td>\n",
       "      <td>47.0</td>\n",
       "      <td>84.0</td>\n",
       "      <td>1.0</td>\n",
       "      <td>23.0</td>\n",
       "      <td>68.0</td>\n",
       "      <td>0.0</td>\n",
       "      <td>22.0</td>\n",
       "    </tr>\n",
       "    <tr>\n",
       "      <td>1</td>\n",
       "      <td>17.0</td>\n",
       "      <td>5.0</td>\n",
       "      <td>9.0</td>\n",
       "      <td>12.0</td>\n",
       "      <td>6.0</td>\n",
       "      <td>4.0</td>\n",
       "      <td>0.0</td>\n",
       "      <td>2.0</td>\n",
       "      <td>12.0</td>\n",
       "      <td>2.0</td>\n",
       "      <td>3.0</td>\n",
       "      <td>4.0</td>\n",
       "      <td>6.0</td>\n",
       "      <td>9.0</td>\n",
       "      <td>0.0</td>\n",
       "      <td>6.0</td>\n",
       "      <td>16.0</td>\n",
       "    </tr>\n",
       "    <tr>\n",
       "      <td>2</td>\n",
       "      <td>233.0</td>\n",
       "      <td>38.0</td>\n",
       "      <td>109.0</td>\n",
       "      <td>26.0</td>\n",
       "      <td>298.0</td>\n",
       "      <td>116.0</td>\n",
       "      <td>241.0</td>\n",
       "      <td>136.0</td>\n",
       "      <td>203.0</td>\n",
       "      <td>237.0</td>\n",
       "      <td>134.0</td>\n",
       "      <td>267.0</td>\n",
       "      <td>34.0</td>\n",
       "      <td>73.0</td>\n",
       "      <td>194.0</td>\n",
       "      <td>63.0</td>\n",
       "      <td>90.0</td>\n",
       "    </tr>\n",
       "  </tbody>\n",
       "</table>\n",
       "</div>"
      ],
      "text/plain": [
       "   American Restaurant  BBQ Joint    Bar  Campground  Coffee Shop  \\\n",
       "0                 52.0        9.0   31.0         6.0         78.0   \n",
       "1                 17.0        5.0    9.0        12.0          6.0   \n",
       "2                233.0       38.0  109.0        26.0        298.0   \n",
       "\n",
       "   Convenience Store  Fast Food Restaurant  Grocery Store  Hotel  \\\n",
       "0               75.0                  97.0           46.0   46.0   \n",
       "1                4.0                   0.0            2.0   12.0   \n",
       "2              116.0                 241.0          136.0  203.0   \n",
       "\n",
       "   Mexican Restaurant   Park  Pizza Place  Resort  Restaurant  Sandwich Place  \\\n",
       "0                92.0   47.0         84.0     1.0        23.0            68.0   \n",
       "1                 2.0    3.0          4.0     6.0         9.0             0.0   \n",
       "2               237.0  134.0        267.0    34.0        73.0           194.0   \n",
       "\n",
       "   Ski Area  Trail  \n",
       "0       0.0   22.0  \n",
       "1       6.0   16.0  \n",
       "2      63.0   90.0  "
      ]
     },
     "execution_count": 35,
     "metadata": {},
     "output_type": "execute_result"
    }
   ],
   "source": [
    "df_classVen"
   ]
  },
  {
   "cell_type": "markdown",
   "metadata": {},
   "source": [
    "### Now create a bar graph to visualize"
   ]
  },
  {
   "cell_type": "code",
   "execution_count": 36,
   "metadata": {},
   "outputs": [
    {
     "name": "stdout",
     "output_type": "stream",
     "text": [
      "                        0     1      2\n",
      "American Restaurant  52.0  17.0  233.0\n",
      "BBQ Joint             9.0   5.0   38.0\n",
      "Bar                  31.0   9.0  109.0\n",
      "Campground            6.0  12.0   26.0\n",
      "Coffee Shop          78.0   6.0  298.0\n"
     ]
    },
    {
     "data": {
      "image/png": "[encoded data removed]",
      "text/plain": [
       "<Figure size 720x432 with 1 Axes>"
      ]
     },
     "metadata": {
      "needs_background": "light"
     },
     "output_type": "display_data"
    }
   ],
   "source": [
    "df_tClass = df_classVen.transpose()\n",
    "df_tClass.plot(kind='bar', figsize=(10,6))\n",
    "print(df_tClass.head())\n",
    "plt.show()"
   ]
  },
  {
   "cell_type": "markdown",
   "metadata": {},
   "source": [
    "### The non deserts have more of everything. Is this because there are more people? Lets scale for population. "
   ]
  },
  {
   "cell_type": "code",
   "execution_count": 37,
   "metadata": {},
   "outputs": [
    {
     "data": {
      "text/html": [
       "<div>\n",
       "<style scoped>\n",
       "    .dataframe tbody tr th:only-of-type {\n",
       "        vertical-align: middle;\n",
       "    }\n",
       "\n",
       "    .dataframe tbody tr th {\n",
       "        vertical-align: top;\n",
       "    }\n",
       "\n",
       "    .dataframe thead th {\n",
       "        text-align: right;\n",
       "    }\n",
       "</style>\n",
       "<table border=\"1\" class=\"dataframe\">\n",
       "  <thead>\n",
       "    <tr style=\"text-align: right;\">\n",
       "      <th></th>\n",
       "      <th>American Restaurant</th>\n",
       "      <th>BBQ Joint</th>\n",
       "      <th>Bar</th>\n",
       "      <th>Campground</th>\n",
       "      <th>Coffee Shop</th>\n",
       "      <th>Convenience Store</th>\n",
       "      <th>Fast Food Restaurant</th>\n",
       "      <th>Grocery Store</th>\n",
       "      <th>Hotel</th>\n",
       "      <th>Mexican Restaurant</th>\n",
       "      <th>Park</th>\n",
       "      <th>Pizza Place</th>\n",
       "      <th>Resort</th>\n",
       "      <th>Restaurant</th>\n",
       "      <th>Sandwich Place</th>\n",
       "      <th>Ski Area</th>\n",
       "      <th>Trail</th>\n",
       "    </tr>\n",
       "  </thead>\n",
       "  <tbody>\n",
       "    <tr>\n",
       "      <td>0</td>\n",
       "      <td>0.000031</td>\n",
       "      <td>0.000005</td>\n",
       "      <td>0.000018</td>\n",
       "      <td>0.000004</td>\n",
       "      <td>0.000046</td>\n",
       "      <td>0.000045</td>\n",
       "      <td>0.000058</td>\n",
       "      <td>0.000027</td>\n",
       "      <td>0.000027</td>\n",
       "      <td>0.000055</td>\n",
       "      <td>0.000028</td>\n",
       "      <td>0.000050</td>\n",
       "      <td>5.952788e-07</td>\n",
       "      <td>0.000014</td>\n",
       "      <td>0.000040</td>\n",
       "      <td>0.000000</td>\n",
       "      <td>0.000013</td>\n",
       "    </tr>\n",
       "    <tr>\n",
       "      <td>1</td>\n",
       "      <td>0.000624</td>\n",
       "      <td>0.000184</td>\n",
       "      <td>0.000331</td>\n",
       "      <td>0.000441</td>\n",
       "      <td>0.000220</td>\n",
       "      <td>0.000147</td>\n",
       "      <td>0.000000</td>\n",
       "      <td>0.000073</td>\n",
       "      <td>0.000441</td>\n",
       "      <td>0.000073</td>\n",
       "      <td>0.000110</td>\n",
       "      <td>0.000147</td>\n",
       "      <td>2.203857e-04</td>\n",
       "      <td>0.000331</td>\n",
       "      <td>0.000000</td>\n",
       "      <td>0.000220</td>\n",
       "      <td>0.000588</td>\n",
       "    </tr>\n",
       "    <tr>\n",
       "      <td>2</td>\n",
       "      <td>0.000066</td>\n",
       "      <td>0.000011</td>\n",
       "      <td>0.000031</td>\n",
       "      <td>0.000007</td>\n",
       "      <td>0.000084</td>\n",
       "      <td>0.000033</td>\n",
       "      <td>0.000068</td>\n",
       "      <td>0.000039</td>\n",
       "      <td>0.000058</td>\n",
       "      <td>0.000067</td>\n",
       "      <td>0.000038</td>\n",
       "      <td>0.000076</td>\n",
       "      <td>9.638688e-06</td>\n",
       "      <td>0.000021</td>\n",
       "      <td>0.000055</td>\n",
       "      <td>0.000018</td>\n",
       "      <td>0.000026</td>\n",
       "    </tr>\n",
       "  </tbody>\n",
       "</table>\n",
       "</div>"
      ],
      "text/plain": [
       "   American Restaurant  BBQ Joint       Bar  Campground  Coffee Shop  \\\n",
       "0             0.000031   0.000005  0.000018    0.000004     0.000046   \n",
       "1             0.000624   0.000184  0.000331    0.000441     0.000220   \n",
       "2             0.000066   0.000011  0.000031    0.000007     0.000084   \n",
       "\n",
       "   Convenience Store  Fast Food Restaurant  Grocery Store     Hotel  \\\n",
       "0           0.000045              0.000058       0.000027  0.000027   \n",
       "1           0.000147              0.000000       0.000073  0.000441   \n",
       "2           0.000033              0.000068       0.000039  0.000058   \n",
       "\n",
       "   Mexican Restaurant      Park  Pizza Place        Resort  Restaurant  \\\n",
       "0            0.000055  0.000028     0.000050  5.952788e-07    0.000014   \n",
       "1            0.000073  0.000110     0.000147  2.203857e-04    0.000331   \n",
       "2            0.000067  0.000038     0.000076  9.638688e-06    0.000021   \n",
       "\n",
       "   Sandwich Place  Ski Area     Trail  \n",
       "0        0.000040  0.000000  0.000013  \n",
       "1        0.000000  0.000220  0.000588  \n",
       "2        0.000055  0.000018  0.000026  "
      ]
     },
     "execution_count": 37,
     "metadata": {},
     "output_type": "execute_result"
    }
   ],
   "source": [
    "total_pop = pop_class1+pop_class2+pop_class3\n",
    "df_tCNorm = df_classVen\n",
    "df_tCNorm.iloc[0] = (df_tCNorm.iloc[0]).divide(pop_class1)\n",
    "df_tCNorm.iloc[1] = (df_tCNorm.iloc[1]).divide(pop_class2)\n",
    "df_tCNorm.iloc[2] = (df_tCNorm.iloc[2]).divide(pop_class3)\n",
    "df_tCNorm\n",
    "\n"
   ]
  },
  {
   "cell_type": "code",
   "execution_count": 38,
   "metadata": {},
   "outputs": [
    {
     "data": {
      "image/png": "[encoded data removed]",
      "text/plain": [
       "<Figure size 720x432 with 1 Axes>"
      ]
     },
     "metadata": {
      "needs_background": "light"
     },
     "output_type": "display_data"
    }
   ],
   "source": [
    "df_tCNorm = df_tCNorm.transpose()\n",
    "df_tCNorm.plot(kind='bar', figsize=(10,6))\n",
    "plt.show()"
   ]
  },
  {
   "cell_type": "markdown",
   "metadata": {},
   "source": [
    "### As before the 'Few Children' CCD class have a high proportion of venues per person. Probably due to these being tourist or rest areas that serve people coming from other areas not living in that zipcode. \n",
    "### I'll remove the 'Few Children' class to study the differences between 'Desert' and 'Non Desert' zipcodes. "
   ]
  },
  {
   "cell_type": "code",
   "execution_count": 39,
   "metadata": {},
   "outputs": [
    {
     "name": "stdout",
     "output_type": "stream",
     "text": [
      "                                 0         2\n",
      "American Restaurant   3.095450e-05  0.000066\n",
      "BBQ Joint             5.357510e-06  0.000011\n",
      "Bar                   1.845364e-05  0.000031\n",
      "Campground            3.571673e-06  0.000007\n",
      "Coffee Shop           4.643175e-05  0.000084\n",
      "Convenience Store     4.464591e-05  0.000033\n",
      "Fast Food Restaurant  5.774205e-05  0.000068\n",
      "Grocery Store         2.738283e-05  0.000039\n",
      "Hotel                 2.738283e-05  0.000058\n",
      "Mexican Restaurant    5.476565e-05  0.000067\n",
      "Park                  2.797811e-05  0.000038\n",
      "Pizza Place           5.000342e-05  0.000076\n",
      "Resort                5.952788e-07  0.000010\n",
      "Restaurant            1.369141e-05  0.000021\n",
      "Sandwich Place        4.047896e-05  0.000055\n",
      "Ski Area              0.000000e+00  0.000018\n",
      "Trail                 1.309613e-05  0.000026\n"
     ]
    },
    {
     "data": {
      "image/png": "[encoded data removed]",
      "text/plain": [
       "<Figure size 720x432 with 1 Axes>"
      ]
     },
     "metadata": {
      "needs_background": "light"
     },
     "output_type": "display_data"
    }
   ],
   "source": [
    "df_tCNorm2 = pd.concat([df_tCNorm[0],df_tCNorm[2]], axis=1)\n",
    "print(df_tCNorm2)\n",
    "df_tCNorm2.plot(kind='bar', figsize=(10,6))\n",
    "plt.show()"
   ]
  },
  {
   "cell_type": "markdown",
   "metadata": {},
   "source": [
    "### There are still more venues per person in the non desert once scalled for population. "
   ]
  },
  {
   "cell_type": "code",
   "execution_count": 40,
   "metadata": {},
   "outputs": [
    {
     "name": "stdout",
     "output_type": "stream",
     "text": [
      "American Restaurant     2.133886\n",
      "BBQ Joint               2.010757\n",
      "Bar                     1.674493\n",
      "Campground              2.063672\n",
      "Coffee Shop             1.819450\n",
      "Convenience Store       0.736572\n",
      "Fast Food Restaurant    1.183216\n",
      "Grocery Store           1.407990\n",
      "Hotel                   2.101632\n",
      "Mexican Restaurant      1.226815\n",
      "Park                    1.357768\n",
      "Pizza Place             1.513737\n",
      "Restaurant              1.511519\n",
      "Sandwich Place          1.358662\n",
      "Ski Area                     inf\n",
      "Trail                   1.948222\n",
      "dtype: float64\n"
     ]
    },
    {
     "data": {
      "image/png": "[encoded data removed]",
      "text/plain": [
       "<Figure size 720x432 with 1 Axes>"
      ]
     },
     "metadata": {
      "needs_background": "light"
     },
     "output_type": "display_data"
    }
   ],
   "source": [
    "df_ratio = df_tCNorm2[2].divide(df_tCNorm[0])\n",
    "# Drop a row by condition\n",
    "\n",
    "##Resort is a major outlier being at 16 times more likely to be in a Non-Desert than\n",
    "## a Desert so hence why I remove it to look at the other values more closely\n",
    "df_ratio = df_ratio.drop(labels='Resort')\n",
    "\n",
    "print(df_ratio)\n",
    "df_ratioMinus1 = df_ratio -1\n",
    "df_ratioMinus1.plot(kind='bar', figsize=(10,6))\n",
    "plt.show()"
   ]
  },
  {
   "cell_type": "markdown",
   "metadata": {},
   "source": [
    "### I subtracted one to be able to see clearly which venues stood out as having more of or less in the Non-Desert vs desert. Although for example Mexican Restaurants happen more frequently in 'Deserts' there are still more Mexican restaurants per person in 'Non-Deserts'. From before we saw that there was not that great of a difference of venues per person but there are many more top venues per person in the non-desert than desert. This appears to indacate that Non-Deserts are more specialized (homogeneous)? For example they have more coffee shops per person than having another type of shop. \n",
    "### The only thing Child Care 'Deserts' have more of are convenience stores amongst the top venues. \n",
    "### Resorts happen exclusively in Non-Deserts. There are no resorts in Deserts. People who don't have Child Care readily available don't have resorts readily available either?\n",
    "\n",
    "### Also Coffee Shops are the most frequent in non-deserts and have the highest ratio compared to deserts. There are more convenince stores in Deserts and happen more frequently. Let's look at these two vaiables to see if we can use them as a predictor of being a Desert or Non-Desert."
   ]
  },
  {
   "cell_type": "markdown",
   "metadata": {},
   "source": [
    "# Part III: Can we use this as a predictor?"
   ]
  },
  {
   "cell_type": "code",
   "execution_count": 41,
   "metadata": {},
   "outputs": [],
   "source": [
    "import itertools\n",
    "import numpy as np\n",
    "import matplotlib.pyplot as plt\n",
    "from matplotlib.ticker import NullFormatter\n",
    "import pandas as pd\n",
    "import numpy as np\n",
    "import matplotlib.ticker as ticker\n",
    "from sklearn import preprocessing\n",
    "%matplotlib inline"
   ]
  },
  {
   "cell_type": "markdown",
   "metadata": {},
   "source": [
    "## So we saw that convenience stores are the only thing that 'Deserts' have more venues per person than 'Non-Deserts'. Also Coffee shops are more frequent in Non-Deserts so I want to plot and visualize this. "
   ]
  },
  {
   "cell_type": "markdown",
   "metadata": {},
   "source": [
    "### Lets prepare the data ratios that could help us find a model?"
   ]
  },
  {
   "cell_type": "code",
   "execution_count": 42,
   "metadata": {},
   "outputs": [
    {
     "data": {
      "text/html": [
       "<div>\n",
       "<style scoped>\n",
       "    .dataframe tbody tr th:only-of-type {\n",
       "        vertical-align: middle;\n",
       "    }\n",
       "\n",
       "    .dataframe tbody tr th {\n",
       "        vertical-align: top;\n",
       "    }\n",
       "\n",
       "    .dataframe thead th {\n",
       "        text-align: right;\n",
       "    }\n",
       "</style>\n",
       "<table border=\"1\" class=\"dataframe\">\n",
       "  <thead>\n",
       "    <tr style=\"text-align: right;\">\n",
       "      <th></th>\n",
       "      <th>Classification</th>\n",
       "      <th>ageless5</th>\n",
       "      <th>Cluster Labels</th>\n",
       "      <th>pop</th>\n",
       "      <th>venue_count</th>\n",
       "      <th>Convenience Store</th>\n",
       "      <th>Coffee Shop</th>\n",
       "      <th>American Restaurant</th>\n",
       "      <th>Ven_Pop</th>\n",
       "      <th>ven_ageless5</th>\n",
       "    </tr>\n",
       "  </thead>\n",
       "  <tbody>\n",
       "    <tr>\n",
       "      <td>0</td>\n",
       "      <td>3</td>\n",
       "      <td>1096</td>\n",
       "      <td>2.0</td>\n",
       "      <td>18211</td>\n",
       "      <td>24</td>\n",
       "      <td>0.000000</td>\n",
       "      <td>0.000000</td>\n",
       "      <td>0.000000</td>\n",
       "      <td>0.001318</td>\n",
       "      <td>0.021898</td>\n",
       "    </tr>\n",
       "    <tr>\n",
       "      <td>1</td>\n",
       "      <td>1</td>\n",
       "      <td>2587</td>\n",
       "      <td>2.0</td>\n",
       "      <td>36657</td>\n",
       "      <td>23</td>\n",
       "      <td>0.000027</td>\n",
       "      <td>0.000027</td>\n",
       "      <td>0.000027</td>\n",
       "      <td>0.000627</td>\n",
       "      <td>0.008891</td>\n",
       "    </tr>\n",
       "    <tr>\n",
       "      <td>2</td>\n",
       "      <td>3</td>\n",
       "      <td>2106</td>\n",
       "      <td>2.0</td>\n",
       "      <td>37241</td>\n",
       "      <td>16</td>\n",
       "      <td>0.000027</td>\n",
       "      <td>0.000000</td>\n",
       "      <td>0.000000</td>\n",
       "      <td>0.000430</td>\n",
       "      <td>0.007597</td>\n",
       "    </tr>\n",
       "    <tr>\n",
       "      <td>3</td>\n",
       "      <td>1</td>\n",
       "      <td>1616</td>\n",
       "      <td>2.0</td>\n",
       "      <td>29037</td>\n",
       "      <td>10</td>\n",
       "      <td>0.000034</td>\n",
       "      <td>0.000000</td>\n",
       "      <td>0.000000</td>\n",
       "      <td>0.000344</td>\n",
       "      <td>0.006188</td>\n",
       "    </tr>\n",
       "    <tr>\n",
       "      <td>4</td>\n",
       "      <td>3</td>\n",
       "      <td>799</td>\n",
       "      <td>2.0</td>\n",
       "      <td>10174</td>\n",
       "      <td>8</td>\n",
       "      <td>0.000000</td>\n",
       "      <td>0.000000</td>\n",
       "      <td>0.000000</td>\n",
       "      <td>0.000786</td>\n",
       "      <td>0.010013</td>\n",
       "    </tr>\n",
       "    <tr>\n",
       "      <td>...</td>\n",
       "      <td>...</td>\n",
       "      <td>...</td>\n",
       "      <td>...</td>\n",
       "      <td>...</td>\n",
       "      <td>...</td>\n",
       "      <td>...</td>\n",
       "      <td>...</td>\n",
       "      <td>...</td>\n",
       "      <td>...</td>\n",
       "      <td>...</td>\n",
       "    </tr>\n",
       "    <tr>\n",
       "      <td>342</td>\n",
       "      <td>1</td>\n",
       "      <td>194</td>\n",
       "      <td>2.0</td>\n",
       "      <td>2625</td>\n",
       "      <td>7</td>\n",
       "      <td>0.000381</td>\n",
       "      <td>0.000381</td>\n",
       "      <td>0.000000</td>\n",
       "      <td>0.002667</td>\n",
       "      <td>0.036082</td>\n",
       "    </tr>\n",
       "    <tr>\n",
       "      <td>343</td>\n",
       "      <td>3</td>\n",
       "      <td>772</td>\n",
       "      <td>2.0</td>\n",
       "      <td>13147</td>\n",
       "      <td>8</td>\n",
       "      <td>0.000000</td>\n",
       "      <td>0.000000</td>\n",
       "      <td>0.000000</td>\n",
       "      <td>0.000609</td>\n",
       "      <td>0.010363</td>\n",
       "    </tr>\n",
       "    <tr>\n",
       "      <td>344</td>\n",
       "      <td>1</td>\n",
       "      <td>425</td>\n",
       "      <td>2.0</td>\n",
       "      <td>4947</td>\n",
       "      <td>4</td>\n",
       "      <td>0.000000</td>\n",
       "      <td>0.000000</td>\n",
       "      <td>0.000000</td>\n",
       "      <td>0.000809</td>\n",
       "      <td>0.009412</td>\n",
       "    </tr>\n",
       "    <tr>\n",
       "      <td>345</td>\n",
       "      <td>3</td>\n",
       "      <td>131</td>\n",
       "      <td>2.0</td>\n",
       "      <td>1520</td>\n",
       "      <td>5</td>\n",
       "      <td>0.000000</td>\n",
       "      <td>0.000000</td>\n",
       "      <td>0.000000</td>\n",
       "      <td>0.003289</td>\n",
       "      <td>0.038168</td>\n",
       "    </tr>\n",
       "    <tr>\n",
       "      <td>346</td>\n",
       "      <td>3</td>\n",
       "      <td>111</td>\n",
       "      <td>2.0</td>\n",
       "      <td>5793</td>\n",
       "      <td>100</td>\n",
       "      <td>0.000000</td>\n",
       "      <td>0.000518</td>\n",
       "      <td>0.001726</td>\n",
       "      <td>0.017262</td>\n",
       "      <td>0.900901</td>\n",
       "    </tr>\n",
       "  </tbody>\n",
       "</table>\n",
       "<p>308 rows × 10 columns</p>\n",
       "</div>"
      ],
      "text/plain": [
       "     Classification  ageless5  Cluster Labels    pop  venue_count  \\\n",
       "0                 3      1096             2.0  18211           24   \n",
       "1                 1      2587             2.0  36657           23   \n",
       "2                 3      2106             2.0  37241           16   \n",
       "3                 1      1616             2.0  29037           10   \n",
       "4                 3       799             2.0  10174            8   \n",
       "..              ...       ...             ...    ...          ...   \n",
       "342               1       194             2.0   2625            7   \n",
       "343               3       772             2.0  13147            8   \n",
       "344               1       425             2.0   4947            4   \n",
       "345               3       131             2.0   1520            5   \n",
       "346               3       111             2.0   5793          100   \n",
       "\n",
       "     Convenience Store  Coffee Shop  American Restaurant   Ven_Pop  \\\n",
       "0             0.000000     0.000000             0.000000  0.001318   \n",
       "1             0.000027     0.000027             0.000027  0.000627   \n",
       "2             0.000027     0.000000             0.000000  0.000430   \n",
       "3             0.000034     0.000000             0.000000  0.000344   \n",
       "4             0.000000     0.000000             0.000000  0.000786   \n",
       "..                 ...          ...                  ...       ...   \n",
       "342           0.000381     0.000381             0.000000  0.002667   \n",
       "343           0.000000     0.000000             0.000000  0.000609   \n",
       "344           0.000000     0.000000             0.000000  0.000809   \n",
       "345           0.000000     0.000000             0.000000  0.003289   \n",
       "346           0.000000     0.000518             0.001726  0.017262   \n",
       "\n",
       "     ven_ageless5  \n",
       "0        0.021898  \n",
       "1        0.008891  \n",
       "2        0.007597  \n",
       "3        0.006188  \n",
       "4        0.010013  \n",
       "..            ...  \n",
       "342      0.036082  \n",
       "343      0.010363  \n",
       "344      0.009412  \n",
       "345      0.038168  \n",
       "346      0.900901  \n",
       "\n",
       "[308 rows x 10 columns]"
      ]
     },
     "execution_count": 42,
     "metadata": {},
     "output_type": "execute_result"
    }
   ],
   "source": [
    "df_plotTopVen = pd.concat([colo_merged2['Classification'], colo_merged['ageless5'], colo_merged['Cluster Labels'], colo_merged2['pop'], colo_merged2['venue_count'], colo_merged2['Convenience Store'],colo_merged2['Coffee Shop'], colo_merged2['American Restaurant']],axis=1)\n",
    "df_plotTopVen = df_plotTopVen[df_plotTopVen['Classification']!=2]\n",
    "df_plotTopVen['Ven_Pop'] = df_plotTopVen['venue_count'].div(df_plotTopVen['pop'])\n",
    "df_plotTopVen['Coffee Shop'] = df_plotTopVen['Coffee Shop'].div(df_plotTopVen['pop'])\n",
    "df_plotTopVen['Convenience Store'] = df_plotTopVen['Convenience Store'].div(df_plotTopVen['pop'])\n",
    "df_plotTopVen['American Restaurant'] = df_plotTopVen['American Restaurant'].div(df_plotTopVen['pop'])\n",
    "df_plotTopVen['ven_ageless5'] = df_plotTopVen['venue_count'].div(df_plotTopVen['ageless5'])\n",
    "df_plotTopVen"
   ]
  },
  {
   "cell_type": "markdown",
   "metadata": {},
   "source": [
    "I print to csv to be able to look and check at the entire dataframe. "
   ]
  },
  {
   "cell_type": "code",
   "execution_count": 43,
   "metadata": {},
   "outputs": [],
   "source": [
    "df_plotTopVen.to_csv(r'df_plotTopVen.csv')"
   ]
  },
  {
   "cell_type": "markdown",
   "metadata": {},
   "source": [
    "### Let's plot Coffee Shop vs Convenience Store vs Venues per AgeLess5"
   ]
  },
  {
   "cell_type": "code",
   "execution_count": 44,
   "metadata": {},
   "outputs": [
    {
     "data": {
      "image/png": "[encoded data removed]",
      "text/plain": [
       "<Figure size 432x288 with 1 Axes>"
      ]
     },
     "metadata": {
      "needs_background": "light"
     },
     "output_type": "display_data"
    }
   ],
   "source": [
    "import pandas as pd\n",
    "from pandas import DataFrame\n",
    "import matplotlib.pyplot as plt\n",
    "from mpl_toolkits.mplot3d import Axes3D \n",
    "\n",
    "fig = plt.figure()\n",
    "ax = fig.add_subplot(111, projection='3d')\n",
    "\n",
    "ax.scatter(df_plotTopVen['Coffee Shop'],df_plotTopVen['Convenience Store'], df_plotTopVen['ven_ageless5'],c=df_plotTopVen['Classification'], cmap='coolwarm')\n",
    "\n",
    "ax.set_xlabel('Coffee Shop')\n",
    "ax.set_ylabel('Convenience Store')\n",
    "ax.set_zlabel('Venue per Pop')\n",
    "\n",
    "ax.view_init(25, 45)\n",
    "ax.legend(['Not Desert'])\n",
    "\n",
    "plt.show()"
   ]
  },
  {
   "cell_type": "markdown",
   "metadata": {},
   "source": [
    "### Let's plot Coffee Shop vs Convenience Store vs Venues per Pop"
   ]
  },
  {
   "cell_type": "code",
   "execution_count": 45,
   "metadata": {},
   "outputs": [
    {
     "data": {
      "image/png": "[encoded data removed]",
      "text/plain": [
       "<Figure size 432x288 with 1 Axes>"
      ]
     },
     "metadata": {
      "needs_background": "light"
     },
     "output_type": "display_data"
    }
   ],
   "source": [
    "fig = plt.figure()\n",
    "ax = fig.add_subplot(111, projection='3d')\n",
    "\n",
    "ax.scatter(df_plotTopVen['Coffee Shop'],df_plotTopVen['Convenience Store'], df_plotTopVen['Ven_Pop'],c=df_plotTopVen['Classification'], cmap='coolwarm')\n",
    "\n",
    "ax.set_xlabel('Coffee Shop')\n",
    "ax.set_ylabel('Convenience Store')\n",
    "ax.set_zlabel('Venue per Pop')\n",
    "\n",
    "ax.view_init(25, 45)\n",
    "ax.legend(['Not Desert'])\n",
    "#ax.set_zlabel('American Restaurant')\n",
    "\n",
    "\n",
    "#plt.axis([0,.0002,0,.0002])\n",
    "ax.view_init(25, 45)\n",
    "ax.legend(['Not Desert'])\n",
    "#ax.set_zlabel('American Restaurant')\n",
    "\n",
    "plt.show()"
   ]
  },
  {
   "cell_type": "markdown",
   "metadata": {},
   "source": [
    "### How about just Venue to Convenience Store?"
   ]
  },
  {
   "cell_type": "code",
   "execution_count": 46,
   "metadata": {},
   "outputs": [
    {
     "data": {
      "image/png": "[encoded data removed]",
      "text/plain": [
       "<Figure size 432x288 with 1 Axes>"
      ]
     },
     "metadata": {
      "needs_background": "light"
     },
     "output_type": "display_data"
    }
   ],
   "source": [
    "plt.scatter(df_plotTopVen['Convenience Store'], df_plotTopVen['Ven_Pop'],c=df_plotTopVen['Classification'], cmap='coolwarm')\n",
    "plt.xlabel('Convenience')\n",
    "plt.ylabel('Ven Pop')\n",
    "plt.axis([-0.00002,.002,-0.0001,.025])\n",
    "plt.show()"
   ]
  },
  {
   "cell_type": "markdown",
   "metadata": {},
   "source": [
    "We can see Deserts have a lower venue per population count and a slightly higher concenince store numbers in certain zipcodes. "
   ]
  },
  {
   "cell_type": "markdown",
   "metadata": {},
   "source": [
    "### Let's plot Venue per AgeLess5 to Covenince store to see if we can separate these two groups further. "
   ]
  },
  {
   "cell_type": "code",
   "execution_count": 47,
   "metadata": {},
   "outputs": [
    {
     "data": {
      "image/png": "[encoded data removed]",
      "text/plain": [
       "<Figure size 432x288 with 1 Axes>"
      ]
     },
     "metadata": {
      "needs_background": "light"
     },
     "output_type": "display_data"
    }
   ],
   "source": [
    "plt.scatter(df_plotTopVen['Convenience Store'], df_plotTopVen['ven_ageless5'],c=df_plotTopVen['Classification'], cmap='coolwarm')\n",
    "plt.xlabel('Convenience')\n",
    "plt.ylabel('Ven Pop')\n",
    "plt.axis([-0.00005,.0025,-0.0001,.8])\n",
    "plt.show()"
   ]
  },
  {
   "cell_type": "markdown",
   "metadata": {},
   "source": [
    "The graph looks pretty similar to the Venues per Pop graph above. "
   ]
  },
  {
   "cell_type": "markdown",
   "metadata": {},
   "source": [
    "### And just to check I'll plot Venues per Population versus Coffee Shops. "
   ]
  },
  {
   "cell_type": "code",
   "execution_count": 48,
   "metadata": {},
   "outputs": [
    {
     "data": {
      "image/png": "[encoded data removed]",
      "text/plain": [
       "<Figure size 432x288 with 1 Axes>"
      ]
     },
     "metadata": {
      "needs_background": "light"
     },
     "output_type": "display_data"
    }
   ],
   "source": [
    "plt.scatter(df_plotTopVen['Coffee Shop'], df_plotTopVen['Ven_Pop'],c=df_plotTopVen['Classification'], cmap='coolwarm')\n",
    "plt.xlabel('Coffee Shop')\n",
    "plt.ylabel('Ven Pop')\n",
    "plt.axis([-0.0001,.0013,-0.0001,.032])\n",
    "plt.show()"
   ]
  },
  {
   "cell_type": "markdown",
   "metadata": {},
   "source": [
    "The Deserts tend to cluster closer to the origin. "
   ]
  },
  {
   "cell_type": "markdown",
   "metadata": {},
   "source": [
    "### Can we create an unsupervised model clustering these categories?"
   ]
  },
  {
   "cell_type": "code",
   "execution_count": 49,
   "metadata": {},
   "outputs": [],
   "source": [
    "from sklearn.cluster import DBSCAN\n",
    "import sklearn.utils\n",
    "from sklearn.preprocessing import StandardScaler"
   ]
  },
  {
   "cell_type": "code",
   "execution_count": 50,
   "metadata": {},
   "outputs": [],
   "source": [
    "X,y= df_plotTopVen[['Coffee Shop','Convenience Store','Ven_Pop', 'American Restaurant', 'ven_ageless5']], df_plotTopVen['Classification']"
   ]
  },
  {
   "cell_type": "code",
   "execution_count": 51,
   "metadata": {},
   "outputs": [
    {
     "data": {
      "text/html": [
       "<div>\n",
       "<style scoped>\n",
       "    .dataframe tbody tr th:only-of-type {\n",
       "        vertical-align: middle;\n",
       "    }\n",
       "\n",
       "    .dataframe tbody tr th {\n",
       "        vertical-align: top;\n",
       "    }\n",
       "\n",
       "    .dataframe thead th {\n",
       "        text-align: right;\n",
       "    }\n",
       "</style>\n",
       "<table border=\"1\" class=\"dataframe\">\n",
       "  <thead>\n",
       "    <tr style=\"text-align: right;\">\n",
       "      <th></th>\n",
       "      <th>Coffee Shop</th>\n",
       "      <th>Convenience Store</th>\n",
       "      <th>Ven_Pop</th>\n",
       "      <th>American Restaurant</th>\n",
       "      <th>ven_ageless5</th>\n",
       "    </tr>\n",
       "  </thead>\n",
       "  <tbody>\n",
       "    <tr>\n",
       "      <td>0</td>\n",
       "      <td>0.000000</td>\n",
       "      <td>0.000000</td>\n",
       "      <td>0.001318</td>\n",
       "      <td>0.000000</td>\n",
       "      <td>0.021898</td>\n",
       "    </tr>\n",
       "    <tr>\n",
       "      <td>1</td>\n",
       "      <td>0.000027</td>\n",
       "      <td>0.000027</td>\n",
       "      <td>0.000627</td>\n",
       "      <td>0.000027</td>\n",
       "      <td>0.008891</td>\n",
       "    </tr>\n",
       "    <tr>\n",
       "      <td>2</td>\n",
       "      <td>0.000000</td>\n",
       "      <td>0.000027</td>\n",
       "      <td>0.000430</td>\n",
       "      <td>0.000000</td>\n",
       "      <td>0.007597</td>\n",
       "    </tr>\n",
       "    <tr>\n",
       "      <td>3</td>\n",
       "      <td>0.000000</td>\n",
       "      <td>0.000034</td>\n",
       "      <td>0.000344</td>\n",
       "      <td>0.000000</td>\n",
       "      <td>0.006188</td>\n",
       "    </tr>\n",
       "    <tr>\n",
       "      <td>4</td>\n",
       "      <td>0.000000</td>\n",
       "      <td>0.000000</td>\n",
       "      <td>0.000786</td>\n",
       "      <td>0.000000</td>\n",
       "      <td>0.010013</td>\n",
       "    </tr>\n",
       "    <tr>\n",
       "      <td>...</td>\n",
       "      <td>...</td>\n",
       "      <td>...</td>\n",
       "      <td>...</td>\n",
       "      <td>...</td>\n",
       "      <td>...</td>\n",
       "    </tr>\n",
       "    <tr>\n",
       "      <td>342</td>\n",
       "      <td>0.000381</td>\n",
       "      <td>0.000381</td>\n",
       "      <td>0.002667</td>\n",
       "      <td>0.000000</td>\n",
       "      <td>0.036082</td>\n",
       "    </tr>\n",
       "    <tr>\n",
       "      <td>343</td>\n",
       "      <td>0.000000</td>\n",
       "      <td>0.000000</td>\n",
       "      <td>0.000609</td>\n",
       "      <td>0.000000</td>\n",
       "      <td>0.010363</td>\n",
       "    </tr>\n",
       "    <tr>\n",
       "      <td>344</td>\n",
       "      <td>0.000000</td>\n",
       "      <td>0.000000</td>\n",
       "      <td>0.000809</td>\n",
       "      <td>0.000000</td>\n",
       "      <td>0.009412</td>\n",
       "    </tr>\n",
       "    <tr>\n",
       "      <td>345</td>\n",
       "      <td>0.000000</td>\n",
       "      <td>0.000000</td>\n",
       "      <td>0.003289</td>\n",
       "      <td>0.000000</td>\n",
       "      <td>0.038168</td>\n",
       "    </tr>\n",
       "    <tr>\n",
       "      <td>346</td>\n",
       "      <td>0.000518</td>\n",
       "      <td>0.000000</td>\n",
       "      <td>0.017262</td>\n",
       "      <td>0.001726</td>\n",
       "      <td>0.900901</td>\n",
       "    </tr>\n",
       "  </tbody>\n",
       "</table>\n",
       "<p>308 rows × 5 columns</p>\n",
       "</div>"
      ],
      "text/plain": [
       "     Coffee Shop  Convenience Store   Ven_Pop  American Restaurant  \\\n",
       "0       0.000000           0.000000  0.001318             0.000000   \n",
       "1       0.000027           0.000027  0.000627             0.000027   \n",
       "2       0.000000           0.000027  0.000430             0.000000   \n",
       "3       0.000000           0.000034  0.000344             0.000000   \n",
       "4       0.000000           0.000000  0.000786             0.000000   \n",
       "..           ...                ...       ...                  ...   \n",
       "342     0.000381           0.000381  0.002667             0.000000   \n",
       "343     0.000000           0.000000  0.000609             0.000000   \n",
       "344     0.000000           0.000000  0.000809             0.000000   \n",
       "345     0.000000           0.000000  0.003289             0.000000   \n",
       "346     0.000518           0.000000  0.017262             0.001726   \n",
       "\n",
       "     ven_ageless5  \n",
       "0        0.021898  \n",
       "1        0.008891  \n",
       "2        0.007597  \n",
       "3        0.006188  \n",
       "4        0.010013  \n",
       "..            ...  \n",
       "342      0.036082  \n",
       "343      0.010363  \n",
       "344      0.009412  \n",
       "345      0.038168  \n",
       "346      0.900901  \n",
       "\n",
       "[308 rows x 5 columns]"
      ]
     },
     "execution_count": 51,
     "metadata": {},
     "output_type": "execute_result"
    }
   ],
   "source": [
    "X"
   ]
  },
  {
   "cell_type": "code",
   "execution_count": 52,
   "metadata": {},
   "outputs": [
    {
     "data": {
      "text/html": [
       "<div>\n",
       "<style scoped>\n",
       "    .dataframe tbody tr th:only-of-type {\n",
       "        vertical-align: middle;\n",
       "    }\n",
       "\n",
       "    .dataframe tbody tr th {\n",
       "        vertical-align: top;\n",
       "    }\n",
       "\n",
       "    .dataframe thead th {\n",
       "        text-align: right;\n",
       "    }\n",
       "</style>\n",
       "<table border=\"1\" class=\"dataframe\">\n",
       "  <thead>\n",
       "    <tr style=\"text-align: right;\">\n",
       "      <th></th>\n",
       "      <th>Classification</th>\n",
       "      <th>American Restaurant</th>\n",
       "      <th>BBQ Joint</th>\n",
       "      <th>Bar</th>\n",
       "      <th>Campground</th>\n",
       "      <th>Coffee Shop</th>\n",
       "      <th>Convenience Store</th>\n",
       "      <th>Fast Food Restaurant</th>\n",
       "      <th>Grocery Store</th>\n",
       "      <th>Hotel</th>\n",
       "      <th>Mexican Restaurant</th>\n",
       "      <th>Park</th>\n",
       "      <th>Pizza Place</th>\n",
       "      <th>Resort</th>\n",
       "      <th>Restaurant</th>\n",
       "      <th>Sandwich Place</th>\n",
       "      <th>Ski Area</th>\n",
       "      <th>Trail</th>\n",
       "    </tr>\n",
       "  </thead>\n",
       "  <tbody>\n",
       "    <tr>\n",
       "      <td>0</td>\n",
       "      <td>3</td>\n",
       "      <td>0.000000</td>\n",
       "      <td>0.00</td>\n",
       "      <td>0.0000</td>\n",
       "      <td>0.0</td>\n",
       "      <td>0.000000</td>\n",
       "      <td>0.000000</td>\n",
       "      <td>0.125000</td>\n",
       "      <td>0.0000</td>\n",
       "      <td>0.000000</td>\n",
       "      <td>0.083333</td>\n",
       "      <td>0.166667</td>\n",
       "      <td>0.083333</td>\n",
       "      <td>0.00</td>\n",
       "      <td>0.0</td>\n",
       "      <td>0.041667</td>\n",
       "      <td>0.00</td>\n",
       "      <td>0.00</td>\n",
       "    </tr>\n",
       "    <tr>\n",
       "      <td>1</td>\n",
       "      <td>1</td>\n",
       "      <td>0.043478</td>\n",
       "      <td>0.00</td>\n",
       "      <td>0.0000</td>\n",
       "      <td>0.0</td>\n",
       "      <td>0.043478</td>\n",
       "      <td>0.043478</td>\n",
       "      <td>0.130435</td>\n",
       "      <td>0.0000</td>\n",
       "      <td>0.000000</td>\n",
       "      <td>0.000000</td>\n",
       "      <td>0.130435</td>\n",
       "      <td>0.043478</td>\n",
       "      <td>0.00</td>\n",
       "      <td>0.0</td>\n",
       "      <td>0.043478</td>\n",
       "      <td>0.00</td>\n",
       "      <td>0.00</td>\n",
       "    </tr>\n",
       "    <tr>\n",
       "      <td>2</td>\n",
       "      <td>3</td>\n",
       "      <td>0.000000</td>\n",
       "      <td>0.00</td>\n",
       "      <td>0.0625</td>\n",
       "      <td>0.0</td>\n",
       "      <td>0.000000</td>\n",
       "      <td>0.062500</td>\n",
       "      <td>0.062500</td>\n",
       "      <td>0.0625</td>\n",
       "      <td>0.000000</td>\n",
       "      <td>0.062500</td>\n",
       "      <td>0.062500</td>\n",
       "      <td>0.000000</td>\n",
       "      <td>0.00</td>\n",
       "      <td>0.0</td>\n",
       "      <td>0.000000</td>\n",
       "      <td>0.00</td>\n",
       "      <td>0.00</td>\n",
       "    </tr>\n",
       "    <tr>\n",
       "      <td>3</td>\n",
       "      <td>1</td>\n",
       "      <td>0.000000</td>\n",
       "      <td>0.00</td>\n",
       "      <td>0.0000</td>\n",
       "      <td>0.0</td>\n",
       "      <td>0.000000</td>\n",
       "      <td>0.100000</td>\n",
       "      <td>0.100000</td>\n",
       "      <td>0.0000</td>\n",
       "      <td>0.000000</td>\n",
       "      <td>0.000000</td>\n",
       "      <td>0.000000</td>\n",
       "      <td>0.100000</td>\n",
       "      <td>0.00</td>\n",
       "      <td>0.0</td>\n",
       "      <td>0.100000</td>\n",
       "      <td>0.00</td>\n",
       "      <td>0.00</td>\n",
       "    </tr>\n",
       "    <tr>\n",
       "      <td>4</td>\n",
       "      <td>3</td>\n",
       "      <td>0.000000</td>\n",
       "      <td>0.00</td>\n",
       "      <td>0.1250</td>\n",
       "      <td>0.0</td>\n",
       "      <td>0.000000</td>\n",
       "      <td>0.000000</td>\n",
       "      <td>0.000000</td>\n",
       "      <td>0.0000</td>\n",
       "      <td>0.000000</td>\n",
       "      <td>0.000000</td>\n",
       "      <td>0.125000</td>\n",
       "      <td>0.000000</td>\n",
       "      <td>0.00</td>\n",
       "      <td>0.0</td>\n",
       "      <td>0.000000</td>\n",
       "      <td>0.00</td>\n",
       "      <td>0.00</td>\n",
       "    </tr>\n",
       "    <tr>\n",
       "      <td>...</td>\n",
       "      <td>...</td>\n",
       "      <td>...</td>\n",
       "      <td>...</td>\n",
       "      <td>...</td>\n",
       "      <td>...</td>\n",
       "      <td>...</td>\n",
       "      <td>...</td>\n",
       "      <td>...</td>\n",
       "      <td>...</td>\n",
       "      <td>...</td>\n",
       "      <td>...</td>\n",
       "      <td>...</td>\n",
       "      <td>...</td>\n",
       "      <td>...</td>\n",
       "      <td>...</td>\n",
       "      <td>...</td>\n",
       "      <td>...</td>\n",
       "      <td>...</td>\n",
       "    </tr>\n",
       "    <tr>\n",
       "      <td>342</td>\n",
       "      <td>1</td>\n",
       "      <td>0.000000</td>\n",
       "      <td>0.00</td>\n",
       "      <td>0.0000</td>\n",
       "      <td>0.0</td>\n",
       "      <td>0.142857</td>\n",
       "      <td>0.142857</td>\n",
       "      <td>0.000000</td>\n",
       "      <td>0.0000</td>\n",
       "      <td>0.142857</td>\n",
       "      <td>0.000000</td>\n",
       "      <td>0.000000</td>\n",
       "      <td>0.142857</td>\n",
       "      <td>0.00</td>\n",
       "      <td>0.0</td>\n",
       "      <td>0.142857</td>\n",
       "      <td>0.00</td>\n",
       "      <td>0.00</td>\n",
       "    </tr>\n",
       "    <tr>\n",
       "      <td>343</td>\n",
       "      <td>3</td>\n",
       "      <td>0.000000</td>\n",
       "      <td>0.00</td>\n",
       "      <td>0.0000</td>\n",
       "      <td>0.0</td>\n",
       "      <td>0.000000</td>\n",
       "      <td>0.000000</td>\n",
       "      <td>0.000000</td>\n",
       "      <td>0.1250</td>\n",
       "      <td>0.000000</td>\n",
       "      <td>0.000000</td>\n",
       "      <td>0.000000</td>\n",
       "      <td>0.000000</td>\n",
       "      <td>0.00</td>\n",
       "      <td>0.0</td>\n",
       "      <td>0.000000</td>\n",
       "      <td>0.00</td>\n",
       "      <td>0.00</td>\n",
       "    </tr>\n",
       "    <tr>\n",
       "      <td>344</td>\n",
       "      <td>1</td>\n",
       "      <td>0.000000</td>\n",
       "      <td>0.00</td>\n",
       "      <td>0.0000</td>\n",
       "      <td>0.0</td>\n",
       "      <td>0.000000</td>\n",
       "      <td>0.000000</td>\n",
       "      <td>0.000000</td>\n",
       "      <td>0.0000</td>\n",
       "      <td>0.000000</td>\n",
       "      <td>0.000000</td>\n",
       "      <td>0.000000</td>\n",
       "      <td>0.000000</td>\n",
       "      <td>0.00</td>\n",
       "      <td>0.0</td>\n",
       "      <td>0.000000</td>\n",
       "      <td>0.00</td>\n",
       "      <td>0.00</td>\n",
       "    </tr>\n",
       "    <tr>\n",
       "      <td>345</td>\n",
       "      <td>3</td>\n",
       "      <td>0.000000</td>\n",
       "      <td>0.00</td>\n",
       "      <td>0.0000</td>\n",
       "      <td>0.0</td>\n",
       "      <td>0.000000</td>\n",
       "      <td>0.000000</td>\n",
       "      <td>0.000000</td>\n",
       "      <td>0.0000</td>\n",
       "      <td>0.000000</td>\n",
       "      <td>0.000000</td>\n",
       "      <td>0.000000</td>\n",
       "      <td>0.000000</td>\n",
       "      <td>0.00</td>\n",
       "      <td>0.0</td>\n",
       "      <td>0.000000</td>\n",
       "      <td>0.00</td>\n",
       "      <td>0.00</td>\n",
       "    </tr>\n",
       "    <tr>\n",
       "      <td>346</td>\n",
       "      <td>3</td>\n",
       "      <td>0.100000</td>\n",
       "      <td>0.02</td>\n",
       "      <td>0.0200</td>\n",
       "      <td>0.0</td>\n",
       "      <td>0.030000</td>\n",
       "      <td>0.000000</td>\n",
       "      <td>0.000000</td>\n",
       "      <td>0.0000</td>\n",
       "      <td>0.090000</td>\n",
       "      <td>0.000000</td>\n",
       "      <td>0.000000</td>\n",
       "      <td>0.030000</td>\n",
       "      <td>0.06</td>\n",
       "      <td>0.0</td>\n",
       "      <td>0.020000</td>\n",
       "      <td>0.13</td>\n",
       "      <td>0.01</td>\n",
       "    </tr>\n",
       "  </tbody>\n",
       "</table>\n",
       "<p>347 rows × 18 columns</p>\n",
       "</div>"
      ],
      "text/plain": [
       "     Classification  American Restaurant  BBQ Joint     Bar  Campground  \\\n",
       "0                 3             0.000000       0.00  0.0000         0.0   \n",
       "1                 1             0.043478       0.00  0.0000         0.0   \n",
       "2                 3             0.000000       0.00  0.0625         0.0   \n",
       "3                 1             0.000000       0.00  0.0000         0.0   \n",
       "4                 3             0.000000       0.00  0.1250         0.0   \n",
       "..              ...                  ...        ...     ...         ...   \n",
       "342               1             0.000000       0.00  0.0000         0.0   \n",
       "343               3             0.000000       0.00  0.0000         0.0   \n",
       "344               1             0.000000       0.00  0.0000         0.0   \n",
       "345               3             0.000000       0.00  0.0000         0.0   \n",
       "346               3             0.100000       0.02  0.0200         0.0   \n",
       "\n",
       "     Coffee Shop  Convenience Store  Fast Food Restaurant  Grocery Store  \\\n",
       "0       0.000000           0.000000              0.125000         0.0000   \n",
       "1       0.043478           0.043478              0.130435         0.0000   \n",
       "2       0.000000           0.062500              0.062500         0.0625   \n",
       "3       0.000000           0.100000              0.100000         0.0000   \n",
       "4       0.000000           0.000000              0.000000         0.0000   \n",
       "..           ...                ...                   ...            ...   \n",
       "342     0.142857           0.142857              0.000000         0.0000   \n",
       "343     0.000000           0.000000              0.000000         0.1250   \n",
       "344     0.000000           0.000000              0.000000         0.0000   \n",
       "345     0.000000           0.000000              0.000000         0.0000   \n",
       "346     0.030000           0.000000              0.000000         0.0000   \n",
       "\n",
       "        Hotel  Mexican Restaurant      Park  Pizza Place  Resort  Restaurant  \\\n",
       "0    0.000000            0.083333  0.166667     0.083333    0.00         0.0   \n",
       "1    0.000000            0.000000  0.130435     0.043478    0.00         0.0   \n",
       "2    0.000000            0.062500  0.062500     0.000000    0.00         0.0   \n",
       "3    0.000000            0.000000  0.000000     0.100000    0.00         0.0   \n",
       "4    0.000000            0.000000  0.125000     0.000000    0.00         0.0   \n",
       "..        ...                 ...       ...          ...     ...         ...   \n",
       "342  0.142857            0.000000  0.000000     0.142857    0.00         0.0   \n",
       "343  0.000000            0.000000  0.000000     0.000000    0.00         0.0   \n",
       "344  0.000000            0.000000  0.000000     0.000000    0.00         0.0   \n",
       "345  0.000000            0.000000  0.000000     0.000000    0.00         0.0   \n",
       "346  0.090000            0.000000  0.000000     0.030000    0.06         0.0   \n",
       "\n",
       "     Sandwich Place  Ski Area  Trail  \n",
       "0          0.041667      0.00   0.00  \n",
       "1          0.043478      0.00   0.00  \n",
       "2          0.000000      0.00   0.00  \n",
       "3          0.100000      0.00   0.00  \n",
       "4          0.000000      0.00   0.00  \n",
       "..              ...       ...    ...  \n",
       "342        0.142857      0.00   0.00  \n",
       "343        0.000000      0.00   0.00  \n",
       "344        0.000000      0.00   0.00  \n",
       "345        0.000000      0.00   0.00  \n",
       "346        0.020000      0.13   0.01  \n",
       "\n",
       "[347 rows x 18 columns]"
      ]
     },
     "execution_count": 52,
     "metadata": {},
     "output_type": "execute_result"
    }
   ],
   "source": [
    "### Doing test with top 10 of all the venues\n",
    "colo_mergedRadN2 =pd.concat((colo_merged['Classification'],colo_merged[x10]), axis=1)\n",
    "#colo_mergedRadN2\n",
    "\n",
    "colo_mergedRadN2"
   ]
  },
  {
   "cell_type": "code",
   "execution_count": 53,
   "metadata": {},
   "outputs": [
    {
     "data": {
      "text/plain": [
       "(347, 18)"
      ]
     },
     "execution_count": 53,
     "metadata": {},
     "output_type": "execute_result"
    }
   ],
   "source": [
    "colo_mergedRadN2 = colo_mergedRadN2[~np.any(np.isnan(colo_mergedRadN2), axis=1)]\n",
    "colo_mergedRadN2.shape"
   ]
  },
  {
   "cell_type": "code",
   "execution_count": 54,
   "metadata": {},
   "outputs": [],
   "source": [
    "X = colo_mergedRadN2\n",
    "X,y = X.drop('Classification', axis=1), colo_mergedRadN2['Classification']"
   ]
  },
  {
   "cell_type": "code",
   "execution_count": 55,
   "metadata": {},
   "outputs": [
    {
     "data": {
      "text/plain": [
       "(347, 17)"
      ]
     },
     "execution_count": 55,
     "metadata": {},
     "output_type": "execute_result"
    }
   ],
   "source": [
    "scaler = StandardScaler()\n",
    "X_scaled = scaler.fit_transform(X)\n",
    "X_scaled.shape"
   ]
  },
  {
   "cell_type": "code",
   "execution_count": 56,
   "metadata": {},
   "outputs": [],
   "source": [
    "X_scaled = X_scaled [~np.any(np.isnan(X_scaled ), axis=1)]"
   ]
  },
  {
   "cell_type": "code",
   "execution_count": 57,
   "metadata": {},
   "outputs": [
    {
     "data": {
      "text/plain": [
       "(347, 17)"
      ]
     },
     "execution_count": 57,
     "metadata": {},
     "output_type": "execute_result"
    }
   ],
   "source": [
    "X_scaled.shape"
   ]
  },
  {
   "cell_type": "code",
   "execution_count": 58,
   "metadata": {},
   "outputs": [],
   "source": [
    "# cluster the data into two clusters\n",
    "dbscan = DBSCAN(eps=.8, min_samples = 2)\n",
    "clusters = dbscan.fit_predict(X_scaled)\n",
    "\n"
   ]
  },
  {
   "cell_type": "code",
   "execution_count": 59,
   "metadata": {},
   "outputs": [
    {
     "data": {
      "text/plain": [
       "<matplotlib.collections.PathCollection at 0x7f94da19b828>"
      ]
     },
     "execution_count": 59,
     "metadata": {},
     "output_type": "execute_result"
    },
    {
     "data": {
      "image/png": "[encoded data removed]",
      "text/plain": [
       "<Figure size 432x288 with 1 Axes>"
      ]
     },
     "metadata": {
      "needs_background": "light"
     },
     "output_type": "display_data"
    }
   ],
   "source": [
    "plt.scatter(X_scaled[:, 0], X_scaled[:, 1], c=clusters, cmap=\"plasma\")\n",
    "#plt.xlabel(\"Feature 0\")\n",
    "#plt.ylabel(\"Feature 1\")"
   ]
  },
  {
   "cell_type": "code",
   "execution_count": 60,
   "metadata": {},
   "outputs": [
    {
     "data": {
      "text/plain": [
       "array([-1, -1, -1, -1, -1, -1, -1, -1, -1, -1, -1, -1, -1,  0, -1, -1, -1,\n",
       "       -1, -1, -1,  0, -1, -1, -1, -1,  0, -1, -1,  1, -1, -1, -1, -1, -1,\n",
       "       -1, -1, -1, -1, -1,  2, -1, -1, -1, -1,  3, -1, -1, -1, -1, -1, -1,\n",
       "        4, -1, -1, -1, -1, -1, -1, -1, -1, -1, -1, -1, -1, -1, -1, -1, -1,\n",
       "       -1, -1, -1, -1, -1, -1, -1,  4, -1, -1, -1, -1, -1,  5, -1, -1, -1,\n",
       "       -1,  6,  7,  8, -1, -1, -1, -1, -1, -1, -1, -1, -1,  2, -1, -1, -1,\n",
       "       -1, -1, -1,  9, -1, -1, -1, -1, -1, -1, -1, -1, -1, -1, -1, -1, -1,\n",
       "        1, -1, -1, -1,  5,  6, -1, -1, -1, -1, -1, -1, -1, -1, -1, -1, -1,\n",
       "       -1, -1, -1, -1, -1, -1, -1, -1, -1,  8,  6, -1, -1, -1, -1, -1, -1,\n",
       "       -1, -1,  6,  6, -1, -1,  0,  6, -1, -1, -1,  6, -1, 10, -1, -1, -1,\n",
       "       -1, -1, -1, -1, -1, -1, -1,  6,  6,  6, -1, -1,  6, -1, 11, -1, -1,\n",
       "       -1, -1,  6, -1, -1,  3, -1, -1, -1, 12,  9, -1,  6, 13,  7, 11, 14,\n",
       "       -1, -1,  6, -1,  6, -1, -1, -1, -1, -1, -1, -1, -1, -1, -1, -1, -1,\n",
       "       -1, -1, -1, -1, -1, -1, -1, 10,  6, -1,  6, -1, -1, -1, -1, -1, -1,\n",
       "       -1, 14, -1,  6, -1, -1,  0, 15, -1, -1, -1, -1,  6,  6, -1, -1, -1,\n",
       "       -1, 15, -1, -1,  6, -1, 15, -1, -1, -1, -1,  0, 16, -1, -1, -1,  6,\n",
       "        9, -1, 13, -1, 16,  6, -1, -1, -1, -1, -1, -1, -1, -1, -1, -1, -1,\n",
       "       -1, 12, -1, -1, -1, -1, -1, -1,  6,  6, -1, -1,  6, -1,  6, -1,  6,\n",
       "       -1,  6,  6,  3, -1, -1, -1, -1,  6, -1, -1, -1, -1, -1, -1, -1, -1,\n",
       "        8, -1, -1, -1, -1, -1, -1, -1,  6, -1, 12, -1, -1,  6, -1, -1, -1,\n",
       "       -1, -1, -1, -1,  6,  6, -1])"
      ]
     },
     "execution_count": 60,
     "metadata": {},
     "output_type": "execute_result"
    }
   ],
   "source": [
    "clusters"
   ]
  },
  {
   "cell_type": "code",
   "execution_count": 61,
   "metadata": {},
   "outputs": [
    {
     "data": {
      "text/plain": [
       "0      3\n",
       "1      1\n",
       "2      3\n",
       "3      1\n",
       "4      3\n",
       "      ..\n",
       "342    1\n",
       "343    3\n",
       "344    1\n",
       "345    3\n",
       "346    3\n",
       "Name: Classification, Length: 347, dtype: int64"
      ]
     },
     "execution_count": 61,
     "metadata": {},
     "output_type": "execute_result"
    }
   ],
   "source": [
    "y"
   ]
  },
  {
   "cell_type": "code",
   "execution_count": 62,
   "metadata": {},
   "outputs": [
    {
     "data": {
      "text/plain": [
       "array([3, 1, 3, 1, 3, 1, 1, 1, 1, 3, 3, 3, 1, 3, 1, 3, 3, 1, 3, 3, 3, 1,\n",
       "       3, 3, 1, 3, 3, 1, 3, 1, 3, 3, 3, 3, 3, 3, 1, 3, 3, 3, 3, 3, 3, 3,\n",
       "       3, 3, 3, 3, 1, 3, 1, 3, 3, 3, 3, 3, 1, 3, 3, 3, 3, 3, 3, 3, 3, 3,\n",
       "       1, 1, 3, 3, 3, 1, 3, 3, 3, 3, 3, 3, 1, 3, 1, 3, 1, 3, 3, 1, 3, 3,\n",
       "       3, 3, 1, 1, 1, 1, 3, 3, 3, 3, 3, 3, 3, 1, 3, 3, 3, 2, 3, 3, 3, 3,\n",
       "       2, 3, 3, 3, 3, 2, 3, 2, 3, 1, 3, 3, 3, 1, 2, 3, 2, 1, 2, 3, 3, 1,\n",
       "       3, 3, 1, 2, 3, 1, 1, 3, 3, 3, 1, 3, 3, 3, 3, 1, 1, 1, 3, 1, 1, 3,\n",
       "       2, 1, 1, 1, 3, 1, 1, 3, 1, 1, 1, 1, 3, 1, 1, 1, 3, 1, 1, 3, 3, 3,\n",
       "       1, 1, 2, 3, 1, 3, 1, 2, 3, 2, 1, 3, 1, 2, 1, 1, 2, 3, 3, 3, 3, 3,\n",
       "       1, 2, 1, 2, 1, 2, 3, 1, 3, 2, 1, 1, 3, 1, 3, 3, 1, 3, 3, 1, 1, 1,\n",
       "       3, 3, 1, 1, 3, 3, 3, 3, 3, 3, 1, 1, 1, 3, 3, 3, 1, 3, 1, 2, 3, 2,\n",
       "       1, 2, 1, 2, 3, 3, 3, 2, 2, 3, 3, 3, 3, 3, 1, 3, 3, 3, 2, 3, 3, 1,\n",
       "       2, 3, 3, 3, 2, 3, 1, 3, 2, 3, 1, 3, 2, 2, 3, 3, 2, 3, 3, 2, 3, 2,\n",
       "       3, 3, 2, 3, 3, 2, 3, 3, 3, 3, 3, 3, 3, 3, 3, 1, 3, 3, 1, 1, 1, 3,\n",
       "       3, 1, 3, 1, 3, 2, 2, 3, 3, 1, 1, 1, 3, 1, 3, 1, 1, 3, 3, 2, 3, 3,\n",
       "       3, 3, 3, 3, 3, 3, 1, 3, 3, 1, 2, 3, 1, 3, 1, 3, 3])"
      ]
     },
     "execution_count": 62,
     "metadata": {},
     "output_type": "execute_result"
    }
   ],
   "source": [
    "y = y.to_numpy()\n",
    "y"
   ]
  },
  {
   "cell_type": "markdown",
   "metadata": {},
   "source": [
    "### I'll do it using K-Means and see aswell. "
   ]
  },
  {
   "cell_type": "code",
   "execution_count": 63,
   "metadata": {},
   "outputs": [
    {
     "name": "stdout",
     "output_type": "stream",
     "text": [
      "[4 4 3 4 4 4 3 4 4 3 2 1 4 7 7 4 3 1 3 4 3 4 4 3 2 3 0 4 3 3 4 3 4 4 6]\n",
      "[3 3 3 3 3 1 3 3 1 1 3 2 3 3 3 3 1 3 1 1 1 3 3 1 3 2 2 1 2 3 3 3 3 3 2]\n"
     ]
    }
   ],
   "source": [
    "from sklearn import cluster, datasets\n",
    "X_kMeans = X_scaled\n",
    "y_kMeans = y\n",
    "\n",
    "k_means = cluster.KMeans(n_clusters=8)\n",
    "k_means.fit(X_kMeans) \n",
    "\n",
    "print(k_means.labels_[::10])\n",
    "\n",
    "print(y_kMeans[::10])"
   ]
  },
  {
   "cell_type": "code",
   "execution_count": 64,
   "metadata": {},
   "outputs": [
    {
     "name": "stdout",
     "output_type": "stream",
     "text": [
      "ARI = 0.05508497477069854\n",
      "ARI = 0.056309706560610316\n"
     ]
    }
   ],
   "source": [
    "from sklearn.metrics.cluster import adjusted_rand_score\n",
    "#k-means performance:\n",
    "print(\"ARI =\", adjusted_rand_score(y, k_means.labels_))\n",
    "\n",
    "#DBSCAN performance:\n",
    "print(\"ARI =\", adjusted_rand_score(y, (clusters)))\n"
   ]
  },
  {
   "cell_type": "markdown",
   "metadata": {},
   "source": [
    "It's pretty bad. Even when playing with Epsilon and min-samples in DBSCAN."
   ]
  },
  {
   "cell_type": "markdown",
   "metadata": {},
   "source": [
    "### Let's Try With SVM"
   ]
  },
  {
   "cell_type": "code",
   "execution_count": 65,
   "metadata": {},
   "outputs": [],
   "source": [
    "from sklearn.model_selection import train_test_split"
   ]
  },
  {
   "cell_type": "code",
   "execution_count": 66,
   "metadata": {},
   "outputs": [
    {
     "name": "stdout",
     "output_type": "stream",
     "text": [
      "Train set: (277, 17) (277,)\n",
      "Test set: (70, 17) (70,)\n"
     ]
    }
   ],
   "source": [
    "X_train, X_test, y_train, y_test = train_test_split( X, y, test_size=0.2, random_state=4)\n",
    "print ('Train set:', X_train.shape,  y_train.shape)\n",
    "print ('Test set:', X_test.shape,  y_test.shape)"
   ]
  },
  {
   "cell_type": "code",
   "execution_count": 147,
   "metadata": {},
   "outputs": [
    {
     "name": "stdout",
     "output_type": "stream",
     "text": [
      "[3 3 3 3 3 3 3 3 3 3]\n",
      "[1 2 3 3 2 1 3 3 3 3]\n"
     ]
    }
   ],
   "source": [
    "from sklearn import svm\n",
    "from sklearn.svm import SVC\n",
    "from sklearn.utils import class_weight\n",
    "from sklearn.linear_model.stochastic_gradient import SGDClassifier\n",
    "class_weights = class_weight.compute_class_weight('balanced',\n",
    "                                                 np.unique(y_train),\n",
    "                                                 y_train)\n",
    "\n",
    "class_weights = {1: 50.,\n",
    "                3: 1.}\n",
    "                \n",
    "clf = svm.SVC(kernel='linear', gamma='scale', C=400, random_state=0)\n",
    "clf.fit(X_train, y_train) \n",
    "yhat = clf.predict(X_test)\n",
    "print(yhat [0:10])\n",
    "print(y_train[0:10])"
   ]
  },
  {
   "cell_type": "code",
   "execution_count": 148,
   "metadata": {},
   "outputs": [],
   "source": [
    "from sklearn.metrics import classification_report, confusion_matrix\n",
    "import itertools"
   ]
  },
  {
   "cell_type": "code",
   "execution_count": 149,
   "metadata": {},
   "outputs": [],
   "source": [
    "def plot_confusion_matrix(cm, classes,\n",
    "                          normalize=False,\n",
    "                          title='Confusion matrix',\n",
    "                          cmap=plt.cm.Blues):\n",
    "    \"\"\"\n",
    "    This function prints and plots the confusion matrix.\n",
    "    Normalization can be applied by setting `normalize=True`.\n",
    "    \"\"\"\n",
    "    if normalize:\n",
    "        cm = cm.astype('float') / cm.sum(axis=1)[:, np.newaxis]\n",
    "        print(\"Normalized confusion matrix\")\n",
    "    else:\n",
    "        print('Confusion matrix, without normalization')\n",
    "\n",
    "    print(cm)\n",
    "\n",
    "    plt.imshow(cm, interpolation='nearest', cmap=cmap)\n",
    "    plt.title(title)\n",
    "    plt.colorbar()\n",
    "    tick_marks = np.arange(len(classes))\n",
    "    plt.xticks(tick_marks, classes, rotation=45)\n",
    "    plt.yticks(tick_marks, classes)\n",
    "\n",
    "    fmt = '.2f' if normalize else 'd'\n",
    "    thresh = cm.max() / 2.\n",
    "    for i, j in itertools.product(range(cm.shape[0]), range(cm.shape[1])):\n",
    "        plt.text(j, i, format(cm[i, j], fmt),\n",
    "                 horizontalalignment=\"center\",\n",
    "                 color=\"white\" if cm[i, j] > thresh else \"black\")\n",
    "\n",
    "    plt.tight_layout()\n",
    "    plt.ylabel('True label')\n",
    "    plt.xlabel('Predicted label')"
   ]
  },
  {
   "cell_type": "code",
   "execution_count": 150,
   "metadata": {},
   "outputs": [],
   "source": [
    "yhat =(np.rint(yhat)).astype(int)"
   ]
  },
  {
   "cell_type": "code",
   "execution_count": 151,
   "metadata": {},
   "outputs": [
    {
     "data": {
      "text/plain": [
       "array([3, 3, 3, 3, 3, 3, 3, 3, 3, 3, 2, 3, 3, 3, 3, 3, 3, 1, 3, 3, 3, 3,\n",
       "       3, 3, 3, 3, 3, 3, 3, 3, 3, 3, 3, 3, 3, 3, 3, 3, 3, 3, 3, 3, 1, 3,\n",
       "       3, 3, 3, 3, 3, 3, 3, 3, 3, 3, 3, 3, 3, 3, 3, 3, 3, 3, 3, 3, 3, 3,\n",
       "       3, 3, 3, 2])"
      ]
     },
     "execution_count": 151,
     "metadata": {},
     "output_type": "execute_result"
    }
   ],
   "source": [
    "yhat"
   ]
  },
  {
   "cell_type": "code",
   "execution_count": 152,
   "metadata": {},
   "outputs": [
    {
     "data": {
      "text/plain": [
       "array([1, 2, 3, 3, 2, 1, 3, 3, 3, 3, 3, 3, 1, 3, 1, 1, 1, 1, 2, 3, 3, 1,\n",
       "       3, 2, 1, 3, 3, 1, 3, 3, 3, 1, 3, 3, 3, 3, 1, 3, 3, 3, 1, 3, 1, 3,\n",
       "       3, 1, 1, 3, 3, 2, 3, 1, 1, 3, 1, 1, 3, 1, 1, 3, 3, 3, 3, 3, 3, 3,\n",
       "       3, 3, 3, 2, 1, 3, 3, 3, 3, 1, 1, 3, 1, 3, 3, 2, 3, 3, 3, 3, 1, 2,\n",
       "       1, 3, 3, 1, 1, 1, 3, 3, 3, 1, 3, 3, 3, 3, 3, 2, 3, 3, 3, 3, 3, 3,\n",
       "       1, 1, 3, 3, 3, 1, 1, 3, 3, 3, 1, 3, 2, 1, 1, 1, 3, 1, 3, 3, 3, 2,\n",
       "       3, 2, 2, 1, 1, 2, 3, 3, 3, 3, 1, 2, 1, 3, 1, 3, 3, 3, 1, 1, 1, 3,\n",
       "       3, 3, 2, 3, 2, 3, 1, 3, 3, 3, 1, 3, 3, 2, 2, 3, 3, 1, 3, 1, 1, 2,\n",
       "       3, 2, 1, 3, 1, 3, 3, 3, 1, 3, 1, 1, 3, 1, 3, 3, 1, 3, 2, 3, 3, 2,\n",
       "       1, 1, 1, 3, 3, 3, 3, 1, 3, 3, 3, 3, 3, 3, 2, 1, 2, 3, 3, 3, 1, 3,\n",
       "       3, 2, 3, 1, 1, 3, 3, 3, 1, 3, 1, 3, 1, 1, 3, 3, 1, 3, 3, 1, 3, 3,\n",
       "       3, 2, 1, 3, 2, 3, 2, 1, 3, 3, 3, 3, 3, 1, 2, 1, 1, 2, 3, 3, 2, 3,\n",
       "       3, 1, 2, 1, 3, 3, 3, 3, 1, 3, 3, 3, 3])"
      ]
     },
     "execution_count": 152,
     "metadata": {},
     "output_type": "execute_result"
    }
   ],
   "source": [
    "y_train"
   ]
  },
  {
   "cell_type": "code",
   "execution_count": 153,
   "metadata": {},
   "outputs": [
    {
     "name": "stdout",
     "output_type": "stream",
     "text": [
      "              precision    recall  f1-score   support\n",
      "\n",
      "           1       0.50      0.05      0.09        21\n",
      "           2       1.00      0.33      0.50         6\n",
      "           3       0.64      0.98      0.77        43\n",
      "\n",
      "   micro avg       0.64      0.64      0.64        70\n",
      "   macro avg       0.71      0.45      0.45        70\n",
      "weighted avg       0.63      0.64      0.54        70\n",
      "\n",
      "Confusion matrix, without normalization\n",
      "[[ 1  0 20]\n",
      " [ 0  2  4]\n",
      " [ 1  0 42]]\n"
     ]
    },
    {
     "data": {
      "image/png": "[encoded data removed]",
      "text/plain": [
       "<Figure size 432x288 with 2 Axes>"
      ]
     },
     "metadata": {
      "needs_background": "light"
     },
     "output_type": "display_data"
    }
   ],
   "source": [
    "# Compute confusion matrix\n",
    "\n",
    "cnf_matrix = confusion_matrix(y_test, yhat, labels=[1,2,3])\n",
    "np.set_printoptions(precision=2)\n",
    "\n",
    "print (classification_report(y_test, yhat))\n",
    "\n",
    "# Plot non-normalized confusion matrix\n",
    "plt.figure()\n",
    "plot_confusion_matrix(cnf_matrix, classes=['Desert(1)','Few(2)','Non-Desert(3)'],normalize= False,  title='Confusion matrix')"
   ]
  },
  {
   "cell_type": "code",
   "execution_count": 154,
   "metadata": {},
   "outputs": [
    {
     "name": "stdout",
     "output_type": "stream",
     "text": [
      "ARI = 0.08693805531443062\n"
     ]
    }
   ],
   "source": [
    "#SVM Performance\n",
    "print(\"ARI =\", adjusted_rand_score(y_test, yhat))\n"
   ]
  },
  {
   "cell_type": "markdown",
   "metadata": {},
   "source": [
    "## At least we are in the tenths, no longer the hundredths for ARI value...C value is pretty high. Rbf method worked best. Despite thinking that setting the class_weights to 'balanced' would Improve the SVM model, it made it worse, taking into account all other variables.  I guess we are better than random? Since there are many more samples for Non-Deserts the model tends to classify everything as Non-Desert. It is able to classify correctly Deserts 24% of the time. Certainly this would not be a good model to predict which types of businessses are most likely in a certain CCD classification. However, this does show there is some type of \"better\" than random correlation between the types of businesses in a zipcode and if the area will be classified as a \"Desert\", \"Non-Desert\", or "
   ]
  },
  {
   "cell_type": "code",
   "execution_count": null,
   "metadata": {},
   "outputs": [],
   "source": []
  }
 ],
 "metadata": {
  "kernelspec": {
   "display_name": "Python",
   "language": "python",
   "name": "conda-env-python-py"
  },
  "language_info": {
   "codemirror_mode": {
    "name": "ipython",
    "version": 3
   },
   "file_extension": ".py",
   "mimetype": "text/x-python",
   "name": "python",
   "nbconvert_exporter": "python",
   "pygments_lexer": "ipython3",
   "version": "3.6.7"
  }
 },
 "nbformat": 4,
 "nbformat_minor": 4
}
